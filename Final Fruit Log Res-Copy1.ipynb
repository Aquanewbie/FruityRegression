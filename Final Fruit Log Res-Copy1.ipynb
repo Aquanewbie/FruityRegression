{
 "cells": [
  {
   "cell_type": "code",
   "execution_count": null,
   "metadata": {},
   "outputs": [],
   "source": [
    "#Folders with Images\n",
    "Folders = [\"1_Pineapples\", \"2_Strawberry\", \"3_Banana\", \"4_Lychee\", \"5_Apple\",\n",
    "           \"6_Raspberry\", \"7_Peach\", \"8_Orange\", \"9_Lime\", \"10_Pomegranate\"]"
   ]
  },
  {
   "cell_type": "code",
   "execution_count": null,
   "metadata": {},
   "outputs": [],
   "source": [
    "#Convert Pineapple Images to Arrays\n",
    "#Reference for Converting JPGs to Arrays\n",
    "#https://scikit-image.org/docs/dev/user_guide/getting_started.html\n",
    "\n",
    "#Conversion 3d array to 2d\n",
    "# nsamples, nx, ny = ModelJPGArrays.shape\n",
    "# d2_train_dataset = ModelJPGArrays.reshape((nsamples,nx*ny))\n",
    "\n",
    "import os\n",
    "from skimage import io, color\n",
    "\n",
    "#Define a list of all JPG Arrays\n",
    "ModelJPGArrays = []\n",
    "Labels = []\n",
    "\n",
    "#Append ModelJPGArrays \n",
    "directory = 'Fruits/1_Pineapples/'\n",
    "PineappleArrays = []\n",
    "for file in os.listdir(directory):\n",
    "   if file.endswith(\".jpg\"):\n",
    "        jpg = (f'Fruits/1_Pineapples/{file}')\n",
    "        jpgarray = io.imread(jpg)\n",
    "        jpgarray = jpgarray.reshape(-1)\n",
    "        PineappleArrays.append(jpgarray)\n",
    "        ModelJPGArrays.append(jpgarray)\n",
    "        Labels.append(1)\n",
    "        \n",
    "directory = 'Fruits/2_Strawberry/'\n",
    "StrawberryArrays = []\n",
    "for file in os.listdir(directory):\n",
    "   if file.endswith(\".jpg\"):\n",
    "        jpg = (f'Fruits/2_Strawberry/{file}')\n",
    "        jpgarray = io.imread(jpg)\n",
    "        jpgarray = jpgarray.reshape(-1)\n",
    "        StrawberryArrays.append(jpgarray)\n",
    "        ModelJPGArrays.append(jpgarray)\n",
    "        Labels.append(2)   \n",
    "        \n",
    "directory = 'Fruits/3_Banana/'\n",
    "BananaArrays = []\n",
    "for file in os.listdir(directory):\n",
    "   if file.endswith(\".jpg\"):\n",
    "        jpg = (f'Fruits/3_Banana/{file}')\n",
    "        jpgarray = io.imread(jpg)\n",
    "        jpgarray = jpgarray.reshape(-1)\n",
    "        BananaArrays.append(jpgarray)\n",
    "        ModelJPGArrays.append(jpgarray)\n",
    "        Labels.append(3)\n",
    "        \n",
    "directory = 'Fruits/4_Lychee/'\n",
    "LycheeArrays = []\n",
    "for file in os.listdir(directory):\n",
    "   if file.endswith(\".jpg\"):\n",
    "        jpg = (f'Fruits/4_Lychee/{file}')\n",
    "        jpgarray = io.imread(jpg)\n",
    "        jpgarray = jpgarray.reshape(-1)\n",
    "        LycheeArrays.append(jpgarray)\n",
    "        ModelJPGArrays.append(jpgarray)\n",
    "        Labels.append(4)  \n",
    "        \n",
    "directory = 'Fruits/5_Apple/'\n",
    "AppleArrays = []\n",
    "for file in os.listdir(directory):\n",
    "   if file.endswith(\".jpg\"):\n",
    "        jpg = (f'Fruits/5_Apple/{file}')\n",
    "        jpgarray = io.imread(jpg)\n",
    "        jpgarray = jpgarray.reshape(-1)\n",
    "        AppleArrays.append(jpgarray)\n",
    "        ModelJPGArrays.append(jpgarray)\n",
    "        Labels.append(5)  \n",
    "        \n",
    "directory = 'Fruits/6_Raspberry/'\n",
    "RaspberryArrays = []\n",
    "for file in os.listdir(directory):\n",
    "   if file.endswith(\".jpg\"):\n",
    "        jpg = (f'Fruits/6_Raspberry/{file}')\n",
    "        jpgarray = io.imread(jpg)\n",
    "        jpgarray = jpgarray.reshape(-1)\n",
    "        RaspberryArrays.append(jpgarray)\n",
    "        ModelJPGArrays.append(jpgarray)\n",
    "        Labels.append(6)\n",
    "        \n",
    "directory = 'Fruits/7_Peach/'\n",
    "PeachArrays = []\n",
    "for file in os.listdir(directory):\n",
    "   if file.endswith(\".jpg\"):\n",
    "        jpg = (f'Fruits/7_Peach/{file}')\n",
    "        jpgarray = io.imread(jpg)\n",
    "        jpgarray = jpgarray.reshape(-1)\n",
    "        PeachArrays.append(jpgarray)\n",
    "        ModelJPGArrays.append(jpgarray)\n",
    "        Labels.append(7)\n",
    "        \n",
    "directory = 'Fruits/8_Orange/'\n",
    "OrangeArrays = []\n",
    "for file in os.listdir(directory):\n",
    "   if file.endswith(\".jpg\"):\n",
    "        jpg = (f'Fruits/8_Orange/{file}')\n",
    "        jpgarray = io.imread(jpg)\n",
    "        jpgarray = jpgarray.reshape(-1)\n",
    "        OrangeArrays.append(jpgarray)\n",
    "        ModelJPGArrays.append(jpgarray)\n",
    "        Labels.append(8)\n",
    "\n",
    "directory = 'Fruits/9_Lime/'\n",
    "LimeArrays = []\n",
    "for file in os.listdir(directory):\n",
    "   if file.endswith(\".jpg\"):\n",
    "        jpg = (f'Fruits/9_Lime/{file}')\n",
    "        jpgarray = io.imread(jpg)\n",
    "        jpgarray = jpgarray.reshape(-1)\n",
    "        LimeArrays.append(jpgarray)\n",
    "        ModelJPGArrays.append(jpgarray)\n",
    "        Labels.append(9)\n",
    "\n",
    "directory = 'Fruits/10_Pomegranate/'\n",
    "PomegranateArrays = []\n",
    "for file in os.listdir(directory):\n",
    "   if file.endswith(\".jpg\"):\n",
    "        jpg = (f'Fruits/10_Pomegranate/{file}')\n",
    "        jpgarray = io.imread(jpg)\n",
    "        jpgarray = jpgarray.reshape(-1)\n",
    "        PomegranateArrays.append(jpgarray)\n",
    "        ModelJPGArrays.append(jpgarray)\n",
    "        Labels.append(10)"
   ]
  },
  {
   "cell_type": "code",
   "execution_count": null,
   "metadata": {},
   "outputs": [],
   "source": [
    "#Confirm Length of All Fruit Arrays\n",
    "#Length of Labels should be 10 x 24\n",
    "print(len(PineappleArrays), len(StrawberryArrays), len(BananaArrays), len(LycheeArrays), len(AppleArrays), len(RaspberryArrays), len(PeachArrays), len(OrangeArrays), len(LimeArrays), len(PomegranateArrays))\n",
    "print(len(Labels))\n",
    "print(len(ModelJPGArrays))"
   ]
  },
  {
   "cell_type": "code",
   "execution_count": null,
   "metadata": {},
   "outputs": [],
   "source": [
    "#Proof That they are all 2d arrays\n",
    "\n",
    "for i in ModelJPGArrays:\n",
    "    print(i.shape)"
   ]
  },
  {
   "cell_type": "code",
   "execution_count": null,
   "metadata": {},
   "outputs": [],
   "source": [
    "#https://github.com/mGalarnyk/Python_Tutorials/blob/master/Sklearn/Logistic_Regression/LogisticRegression_toy_digits.ipynb\n",
    "#Import Machine Learning dependencies\n",
    "from sklearn.datasets import load_digits\n",
    "from sklearn.model_selection import train_test_split\n",
    "from sklearn.linear_model import LogisticRegression\n",
    "import numpy as np \n",
    "\n",
    "import matplotlib.pyplot as plt\n",
    "import seaborn as sns\n",
    "\n",
    "# Used for Confusion Matrix\n",
    "from sklearn import metrics"
   ]
  },
  {
   "cell_type": "code",
   "execution_count": null,
   "metadata": {},
   "outputs": [],
   "source": [
    "# test_size: what proportion of original data is used for test set\n",
    "x_train, x_test, y_train, y_test = train_test_split(\n",
    "    ModelJPGArrays, Labels, test_size=0.25, random_state=0)"
   ]
  },
  {
   "cell_type": "code",
   "execution_count": null,
   "metadata": {},
   "outputs": [],
   "source": [
    "#Make Instance of Logistic Regression Model\n",
    "FruitRegr = LogisticRegression()"
   ]
  },
  {
   "cell_type": "code",
   "execution_count": null,
   "metadata": {},
   "outputs": [],
   "source": [
    "len(x_train)"
   ]
  },
  {
   "cell_type": "code",
   "execution_count": null,
   "metadata": {},
   "outputs": [],
   "source": [
    "#Train Model\n",
    "FruitRegr.fit(x_train, y_train)"
   ]
  },
  {
   "cell_type": "code",
   "execution_count": null,
   "metadata": {},
   "outputs": [],
   "source": [
    "Predictjpg = ('Fruits/To_Predict/6.jpg')\n",
    "Predictjpgarray = io.imread(Predictjpg)\n",
    "# Predictjpgarray = Predictjpgarray.reshape(-1)\n",
    "Predictjpgarray.shape\n",
    "# FruitRegr.predict(Predictjpgarray.reshape(-1,1))\n",
    "#         jpgarray = jpgarray.reshape((nsamples,nx*ny))\n",
    "#         jpgarray = jpgarray.transpose(2,0,1).reshape(3,-1)"
   ]
  },
  {
   "cell_type": "code",
   "execution_count": null,
   "metadata": {},
   "outputs": [],
   "source": [
    "x=Predictjpgarray.reshape(1,-1)\n",
    "x.shape"
   ]
  },
  {
   "cell_type": "code",
   "execution_count": null,
   "metadata": {},
   "outputs": [],
   "source": [
    "FruitRegr.predict(x)"
   ]
  },
  {
   "cell_type": "code",
   "execution_count": null,
   "metadata": {},
   "outputs": [],
   "source": [
    "FruitRegr.score(x_test, y_test)"
   ]
  },
  {
   "cell_type": "code",
   "execution_count": null,
   "metadata": {},
   "outputs": [],
   "source": [
    "y_pred = FruitRegr.predict(x_test)\n",
    "print('Accuracy of logistic regression classifier on test set: {:.2f}'.format(FruitRegr.score(x_test, y_test)))\n",
    "\n",
    "\n",
    "\n",
    "\n"
   ]
  },
  {
   "cell_type": "code",
   "execution_count": null,
   "metadata": {},
   "outputs": [],
   "source": [
    "# https://towardsdatascience.com/building-a-logistic-regression-in-python-step-by-step-becd4d56c9c8\n",
    "from sklearn.metrics import confusion_matrix\n",
    "confusion_matrix = confusion_matrix(y_test, y_pred)\n",
    "print(confusion_matrix)"
   ]
  },
  {
   "cell_type": "code",
   "execution_count": null,
   "metadata": {},
   "outputs": [],
   "source": [
    "from sklearn.metrics import classification_report\n",
    "print(classification_report(y_test, y_pred))"
   ]
  },
  {
   "cell_type": "code",
   "execution_count": null,
   "metadata": {},
   "outputs": [],
   "source": [
    "# # Create the RFE object and rank each pixel\n",
    "# #https://scikit-learn.org/stable/auto_examples/feature_selection/plot_rfe_digits.html#sphx-glr-auto-examples-feature-selection-plot-rfe-digits-py\n",
    "# from sklearn.svm import SVC\n",
    "# from sklearn.feature_selection import RFE\n",
    "# svc = SVC(kernel=\"linear\", C=1)\n",
    "# rfe = RFE(estimator=svc, n_features_to_select=1, step=1)\n",
    "# rfe.fit(x_train, y_train)\n",
    "# ranking = rfe.ranking_.reshape(digits.images[0].shape)\n",
    "\n",
    "# # Plot pixel ranking\n",
    "# plt.matshow(ranking, cmap=plt.cm.Blues)\n",
    "# plt.colorbar()\n",
    "# plt.title(\"Ranking of pixels with RFE\")\n",
    "# plt.show()"
   ]
  },
  {
   "cell_type": "code",
   "execution_count": null,
   "metadata": {},
   "outputs": [],
   "source": [
    "# print(\"Lengnth: x_train: \" + len(x_train) + \"Length: y_train: \" + len(y_train))\n",
    "len(x_train)\n",
    "len(y_train)"
   ]
  },
  {
   "cell_type": "code",
   "execution_count": null,
   "metadata": {},
   "outputs": [],
   "source": [
    "tenthx_train= (x_train[:len(x_train)//20])\n",
    "tenthy_train= (y_train[:len(y_train)//20])\n",
    "\n",
    "print(len(tenthx_train))\n",
    "print(len(tenthy_train))\n",
    "print(tenthx_train)\n",
    "print(tenthy_train)\n",
    "print(len(x_train[1]))"
   ]
  },
  {
   "cell_type": "code",
   "execution_count": null,
   "metadata": {},
   "outputs": [],
   "source": [
    "# Create the RFE object and rank each pixel\n",
    "#https://scikit-learn.org/stable/auto_examples/feature_selection/plot_rfe_digits.html#sphx-glr-auto-examples-feature-selection-plot-rfe-digits-py\n",
    "from sklearn.svm import SVC\n",
    "from sklearn.feature_selection import RFE\n",
    "svc = SVC(kernel=\"linear\", C=1)\n",
    "rfe = RFE(estimator=svc, n_features_to_select=1, step=1)\n",
    "rfe.fit(tenthx_train, tenthy_train)\n",
    "ranking = rfe.ranking_.reshape(digits.images[0].shape)\n",
    "\n",
    "# Plot pixel ranking\n",
    "plt.matshow(ranking, cmap=plt.cm.Blues)\n",
    "plt.colorbar()\n",
    "plt.title(\"Ranking of pixels with RFE\")\n",
    "plt.show()"
   ]
  },
  {
   "cell_type": "code",
   "execution_count": null,
   "metadata": {},
   "outputs": [],
   "source": []
  }
 ],
 "metadata": {
  "kernelspec": {
   "display_name": "Python 3",
   "language": "python",
   "name": "python3"
  },
  "language_info": {
   "codemirror_mode": {
    "name": "ipython",
    "version": 3
   },
   "file_extension": ".py",
   "mimetype": "text/x-python",
   "name": "python",
   "nbconvert_exporter": "python",
   "pygments_lexer": "ipython3",
   "version": "3.7.3"
  }
 },
 "nbformat": 4,
 "nbformat_minor": 2
}
