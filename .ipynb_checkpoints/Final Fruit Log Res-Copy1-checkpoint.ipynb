{
 "cells": [
  {
   "cell_type": "code",
   "execution_count": 1,
   "metadata": {},
   "outputs": [],
   "source": [
    "#Folders with Images\n",
    "Folders = [\"1_Pineapples\", \"2_Strawberry\", \"3_Banana\", \"4_Lychee\", \"5_Apple\",\n",
    "           \"6_Raspberry\", \"7_Peach\", \"8_Orange\", \"9_Lime\", \"10_Pomegranate\"]"
   ]
  },
  {
   "cell_type": "code",
   "execution_count": 2,
   "metadata": {},
   "outputs": [],
   "source": [
    "#Convert Pineapple Images to Arrays\n",
    "#Reference for Converting JPGs to Arrays\n",
    "#https://scikit-image.org/docs/dev/user_guide/getting_started.html\n",
    "\n",
    "#Conversion 3d array to 2d\n",
    "# nsamples, nx, ny = ModelJPGArrays.shape\n",
    "# d2_train_dataset = ModelJPGArrays.reshape((nsamples,nx*ny))\n",
    "\n",
    "import os\n",
    "from skimage import io, color\n",
    "\n",
    "#Define a list of all JPG Arrays\n",
    "ModelJPGArrays = []\n",
    "Labels = []\n",
    "\n",
    "#Append ModelJPGArrays \n",
    "directory = 'Fruits/1_Pineapples/'\n",
    "PineappleArrays = []\n",
    "for file in os.listdir(directory):\n",
    "   if file.endswith(\".jpg\"):\n",
    "        jpg = (f'Fruits/1_Pineapples/{file}')\n",
    "        jpgarray = io.imread(jpg)\n",
    "        jpgarray = jpgarray.reshape(-1)\n",
    "        PineappleArrays.append(jpgarray)\n",
    "        ModelJPGArrays.append(jpgarray)\n",
    "        Labels.append(1)\n",
    "        \n",
    "directory = 'Fruits/2_Strawberry/'\n",
    "StrawberryArrays = []\n",
    "for file in os.listdir(directory):\n",
    "   if file.endswith(\".jpg\"):\n",
    "        jpg = (f'Fruits/2_Strawberry/{file}')\n",
    "        jpgarray = io.imread(jpg)\n",
    "        jpgarray = jpgarray.reshape(-1)\n",
    "        StrawberryArrays.append(jpgarray)\n",
    "        ModelJPGArrays.append(jpgarray)\n",
    "        Labels.append(2)   \n",
    "        \n",
    "directory = 'Fruits/3_Banana/'\n",
    "BananaArrays = []\n",
    "for file in os.listdir(directory):\n",
    "   if file.endswith(\".jpg\"):\n",
    "        jpg = (f'Fruits/3_Banana/{file}')\n",
    "        jpgarray = io.imread(jpg)\n",
    "        jpgarray = jpgarray.reshape(-1)\n",
    "        BananaArrays.append(jpgarray)\n",
    "        ModelJPGArrays.append(jpgarray)\n",
    "        Labels.append(3)\n",
    "        \n",
    "directory = 'Fruits/4_Lychee/'\n",
    "LycheeArrays = []\n",
    "for file in os.listdir(directory):\n",
    "   if file.endswith(\".jpg\"):\n",
    "        jpg = (f'Fruits/4_Lychee/{file}')\n",
    "        jpgarray = io.imread(jpg)\n",
    "        jpgarray = jpgarray.reshape(-1)\n",
    "        LycheeArrays.append(jpgarray)\n",
    "        ModelJPGArrays.append(jpgarray)\n",
    "        Labels.append(4)  \n",
    "        \n",
    "directory = 'Fruits/5_Apple/'\n",
    "AppleArrays = []\n",
    "for file in os.listdir(directory):\n",
    "   if file.endswith(\".jpg\"):\n",
    "        jpg = (f'Fruits/5_Apple/{file}')\n",
    "        jpgarray = io.imread(jpg)\n",
    "        jpgarray = jpgarray.reshape(-1)\n",
    "        AppleArrays.append(jpgarray)\n",
    "        ModelJPGArrays.append(jpgarray)\n",
    "        Labels.append(5)  \n",
    "        \n",
    "directory = 'Fruits/6_Raspberry/'\n",
    "RaspberryArrays = []\n",
    "for file in os.listdir(directory):\n",
    "   if file.endswith(\".jpg\"):\n",
    "        jpg = (f'Fruits/6_Raspberry/{file}')\n",
    "        jpgarray = io.imread(jpg)\n",
    "        jpgarray = jpgarray.reshape(-1)\n",
    "        RaspberryArrays.append(jpgarray)\n",
    "        ModelJPGArrays.append(jpgarray)\n",
    "        Labels.append(6)\n",
    "        \n",
    "directory = 'Fruits/7_Peach/'\n",
    "PeachArrays = []\n",
    "for file in os.listdir(directory):\n",
    "   if file.endswith(\".jpg\"):\n",
    "        jpg = (f'Fruits/7_Peach/{file}')\n",
    "        jpgarray = io.imread(jpg)\n",
    "        jpgarray = jpgarray.reshape(-1)\n",
    "        PeachArrays.append(jpgarray)\n",
    "        ModelJPGArrays.append(jpgarray)\n",
    "        Labels.append(7)\n",
    "        \n",
    "directory = 'Fruits/8_Orange/'\n",
    "OrangeArrays = []\n",
    "for file in os.listdir(directory):\n",
    "   if file.endswith(\".jpg\"):\n",
    "        jpg = (f'Fruits/8_Orange/{file}')\n",
    "        jpgarray = io.imread(jpg)\n",
    "        jpgarray = jpgarray.reshape(-1)\n",
    "        OrangeArrays.append(jpgarray)\n",
    "        ModelJPGArrays.append(jpgarray)\n",
    "        Labels.append(8)\n",
    "\n",
    "directory = 'Fruits/9_Lime/'\n",
    "LimeArrays = []\n",
    "for file in os.listdir(directory):\n",
    "   if file.endswith(\".jpg\"):\n",
    "        jpg = (f'Fruits/9_Lime/{file}')\n",
    "        jpgarray = io.imread(jpg)\n",
    "        jpgarray = jpgarray.reshape(-1)\n",
    "        LimeArrays.append(jpgarray)\n",
    "        ModelJPGArrays.append(jpgarray)\n",
    "        Labels.append(9)\n",
    "\n",
    "directory = 'Fruits/10_Pomegranate/'\n",
    "PomegranateArrays = []\n",
    "for file in os.listdir(directory):\n",
    "   if file.endswith(\".jpg\"):\n",
    "        jpg = (f'Fruits/10_Pomegranate/{file}')\n",
    "        jpgarray = io.imread(jpg)\n",
    "        jpgarray = jpgarray.reshape(-1)\n",
    "        PomegranateArrays.append(jpgarray)\n",
    "        ModelJPGArrays.append(jpgarray)\n",
    "        Labels.append(10)"
   ]
  },
  {
   "cell_type": "code",
   "execution_count": 3,
   "metadata": {},
   "outputs": [
    {
     "name": "stdout",
     "output_type": "stream",
     "text": [
      "166 164 166 166 164 166 164 160 166 164\n",
      "1646\n",
      "1646\n"
     ]
    }
   ],
   "source": [
    "#Confirm Length of All Fruit Arrays\n",
    "#Length of Labels should be 10 x 24\n",
    "print(len(PineappleArrays), len(StrawberryArrays), len(BananaArrays), len(LycheeArrays), len(AppleArrays), len(RaspberryArrays), len(PeachArrays), len(OrangeArrays), len(LimeArrays), len(PomegranateArrays))\n",
    "print(len(Labels))\n",
    "print(len(ModelJPGArrays))"
   ]
  },
  {
   "cell_type": "code",
   "execution_count": 5,
   "metadata": {},
   "outputs": [
    {
     "name": "stdout",
     "output_type": "stream",
     "text": [
      "[255 255 255 ... 255 255 255]\n",
      "[255 254 255 ... 255 255 255]\n",
      "[254 255 255 ... 255 255 255]\n",
      "[254 255 255 ... 255 255 255]\n",
      "[254 255 255 ... 255 255 255]\n",
      "[255 255 255 ... 255 255 255]\n",
      "[254 255 255 ... 255 255 255]\n",
      "[255 255 253 ... 255 255 255]\n",
      "[255 254 255 ... 255 255 255]\n",
      "[255 255 253 ... 255 255 255]\n",
      "[255 255 253 ... 255 255 255]\n",
      "[255 254 253 ... 255 255 255]\n",
      "[254 255 255 ... 255 255 255]\n",
      "[255 255 255 ... 255 255 255]\n",
      "[255 255 255 ... 255 255 255]\n",
      "[254 255 255 ... 255 255 255]\n",
      "[254 255 255 ... 255 255 255]\n",
      "[255 254 253 ... 255 255 255]\n",
      "[255 255 255 ... 255 255 255]\n",
      "[247 255 251 ... 255 255 255]\n",
      "[255 255 255 ... 255 255 255]\n",
      "[255 255 255 ... 255 255 255]\n",
      "[255 255 253 ... 255 255 255]\n",
      "[255 254 253 ... 255 255 255]\n",
      "[255 255 255 ... 255 255 255]\n",
      "[255 255 255 ... 255 255 255]\n",
      "[255 255 255 ... 255 255 255]\n",
      "[255 255 255 ... 255 255 255]\n",
      "[255 255 255 ... 255 255 255]\n",
      "[255 255 255 ... 255 255 255]\n",
      "[255 255 255 ... 255 255 255]\n",
      "[255 255 255 ... 255 255 255]\n",
      "[255 255 255 ... 255 255 255]\n",
      "[255 255 255 ... 255 255 255]\n",
      "[255 255 255 ... 255 255 255]\n",
      "[255 255 255 ... 255 255 255]\n",
      "[255 255 255 ... 255 255 255]\n",
      "[255 255 255 ... 255 255 255]\n",
      "[255 255 255 ... 255 255 255]\n",
      "[255 255 255 ... 255 255 255]\n",
      "[255 255 255 ... 255 255 255]\n",
      "[255 255 255 ... 255 255 255]\n",
      "[255 255 255 ... 255 255 255]\n",
      "[255 255 255 ... 255 255 255]\n",
      "[255 255 255 ... 255 255 255]\n",
      "[255 255 255 ... 255 255 255]\n",
      "[255 255 255 ... 255 255 255]\n",
      "[255 255 255 ... 255 255 255]\n",
      "[255 255 255 ... 255 255 255]\n",
      "[255 255 255 ... 255 255 255]\n",
      "[255 255 255 ... 255 255 255]\n",
      "[255 255 255 ... 255 255 255]\n",
      "[255 255 255 ... 255 255 255]\n",
      "[255 255 255 ... 255 255 255]\n",
      "[255 255 255 ... 255 255 255]\n",
      "[255 255 255 ... 255 255 255]\n",
      "[255 255 255 ... 255 255 255]\n",
      "[255 255 255 ... 255 255 255]\n",
      "[255 255 255 ... 255 255 255]\n",
      "[255 255 255 ... 255 255 255]\n",
      "[255 255 255 ... 255 255 255]\n",
      "[255 255 255 ... 255 255 255]\n",
      "[255 255 255 ... 255 255 255]\n",
      "[255 255 255 ... 255 255 255]\n",
      "[255 255 255 ... 255 255 255]\n",
      "[255 255 255 ... 255 255 255]\n",
      "[255 255 255 ... 255 255 255]\n",
      "[255 255 255 ... 255 255 255]\n",
      "[255 255 255 ... 255 255 255]\n",
      "[255 255 255 ... 255 255 255]\n",
      "[255 255 255 ... 255 255 255]\n",
      "[255 255 255 ... 255 255 255]\n",
      "[255 255 255 ... 255 255 255]\n",
      "[255 255 255 ... 255 255 255]\n",
      "[255 255 255 ... 255 255 255]\n",
      "[255 255 255 ... 255 255 255]\n",
      "[255 255 255 ... 255 255 255]\n",
      "[255 255 255 ... 255 255 255]\n",
      "[255 255 255 ... 255 255 255]\n",
      "[255 255 255 ... 255 255 255]\n",
      "[255 255 255 ... 255 255 255]\n",
      "[255 255 255 ... 255 255 255]\n",
      "[255 255 255 ... 255 255 255]\n",
      "[255 255 255 ... 255 255 255]\n",
      "[255 255 255 ... 255 255 255]\n",
      "[255 255 255 ... 255 255 255]\n",
      "[255 255 255 ... 255 255 255]\n",
      "[255 255 255 ... 255 255 255]\n",
      "[255 255 255 ... 255 255 255]\n",
      "[255 255 255 ... 255 255 255]\n",
      "[255 255 255 ... 255 255 255]\n",
      "[255 255 255 ... 255 255 255]\n",
      "[255 255 255 ... 255 255 255]\n",
      "[255 255 255 ... 255 255 255]\n",
      "[255 255 255 ... 255 255 255]\n",
      "[255 255 255 ... 255 255 255]\n",
      "[255 255 255 ... 255 255 255]\n",
      "[255 255 255 ... 255 255 255]\n",
      "[255 255 255 ... 255 255 255]\n",
      "[255 255 255 ... 255 255 255]\n",
      "[255 255 255 ... 255 255 255]\n",
      "[255 255 255 ... 255 255 255]\n",
      "[255 255 255 ... 255 255 255]\n",
      "[255 255 255 ... 255 255 255]\n",
      "[255 255 255 ... 255 255 255]\n",
      "[255 255 255 ... 255 255 255]\n",
      "[255 255 255 ... 255 255 255]\n",
      "[255 255 255 ... 255 255 255]\n",
      "[255 255 255 ... 255 255 255]\n",
      "[255 255 255 ... 255 255 255]\n",
      "[255 255 255 ... 255 255 255]\n",
      "[255 255 255 ... 255 255 255]\n",
      "[255 255 255 ... 255 255 255]\n",
      "[255 255 255 ... 255 255 255]\n",
      "[255 255 255 ... 255 255 255]\n",
      "[255 255 255 ... 255 255 255]\n",
      "[255 255 255 ... 255 255 255]\n",
      "[255 255 255 ... 255 255 255]\n",
      "[255 255 255 ... 255 255 255]\n",
      "[255 255 255 ... 255 255 255]\n",
      "[255 255 255 ... 255 255 255]\n",
      "[255 255 255 ... 255 255 255]\n",
      "[255 255 255 ... 255 255 255]\n",
      "[255 255 255 ... 255 255 255]\n",
      "[255 255 255 ... 255 255 255]\n",
      "[255 255 255 ... 255 255 255]\n",
      "[254 254 255 ... 255 255 255]\n",
      "[255 255 255 ... 255 255 255]\n",
      "[255 255 255 ... 255 255 255]\n",
      "[255 255 253 ... 255 255 255]\n",
      "[252 255 255 ... 255 255 255]\n",
      "[255 255 255 ... 255 255 255]\n",
      "[255 255 253 ... 255 255 255]\n",
      "[255 255 255 ... 255 255 255]\n",
      "[255 255 255 ... 255 255 255]\n",
      "[255 255 253 ... 255 255 255]\n",
      "[255 255 255 ... 255 255 255]\n",
      "[255 255 255 ... 255 255 255]\n",
      "[252 255 255 ... 255 255 255]\n",
      "[255 255 255 ... 255 255 255]\n",
      "[255 255 255 ... 255 255 255]\n",
      "[251 255 255 ... 255 255 255]\n",
      "[255 255 255 ... 255 255 255]\n",
      "[255 255 255 ... 255 255 255]\n",
      "[254 255 255 ... 255 255 255]\n",
      "[241 255 255 ... 255 255 255]\n",
      "[255 251 251 ... 255 255 255]\n",
      "[254 255 255 ... 255 255 255]\n",
      "[247 255 255 ... 255 255 255]\n",
      "[254 252 255 ... 255 255 255]\n",
      "[255 252 255 ... 255 255 255]\n",
      "[253 255 252 ... 255 255 255]\n",
      "[255 251 255 ... 255 255 255]\n",
      "[248 255 255 ... 255 255 255]\n",
      "[250 255 254 ... 255 255 255]\n",
      "[242 255 255 ... 255 255 255]\n",
      "[254 253 255 ... 255 255 255]\n",
      "[254 255 255 ... 255 255 255]\n",
      "[254 254 254 ... 255 255 255]\n",
      "[241 255 255 ... 255 255 255]\n",
      "[255 255 248 ... 255 255 255]\n",
      "[250 255 255 ... 255 255 255]\n",
      "[254 253 255 ... 255 255 255]\n",
      "[250 255 255 ... 255 255 255]\n",
      "[241 255 255 ... 255 255 255]\n",
      "[255 253 255 ... 255 255 255]\n",
      "[252 255 248 ... 255 255 255]\n",
      "[252 255 255 ... 255 255 255]\n",
      "[255 254 242 ... 255 255 255]\n",
      "[255 253 245 ... 255 255 255]\n",
      "[255 254 242 ... 255 255 255]\n",
      "[255 254 236 ... 255 255 255]\n",
      "[255 254 247 ... 255 255 255]\n",
      "[255 255 250 ... 255 255 255]\n",
      "[255 255 243 ... 255 255 255]\n",
      "[255 253 235 ... 255 255 255]\n",
      "[255 250 250 ... 255 255 255]\n",
      "[255 254 245 ... 255 255 255]\n",
      "[253 255 249 ... 255 255 255]\n",
      "[255 254 249 ... 255 255 255]\n",
      "[255 255 242 ... 255 255 255]\n",
      "[255 253 235 ... 255 255 255]\n",
      "[254 255 255 ... 255 255 255]\n",
      "[255 254 238 ... 255 255 255]\n",
      "[255 253 240 ... 255 255 255]\n",
      "[255 252 254 ... 255 255 255]\n",
      "[253 255 249 ... 255 255 255]\n",
      "[255 255 250 ... 255 255 255]\n",
      "[255 253 254 ... 255 255 255]\n",
      "[255 252 255 ... 255 255 255]\n",
      "[255 250 241 ... 255 255 255]\n",
      "[255 253 245 ... 255 255 255]\n",
      "[255 255 255 ... 255 255 255]\n",
      "[255 255 255 ... 255 255 255]\n",
      "[255 255 255 ... 255 255 255]\n",
      "[255 255 255 ... 255 255 255]\n",
      "[255 255 255 ... 255 255 255]\n",
      "[255 255 255 ... 255 255 255]\n",
      "[255 255 255 ... 255 255 255]\n",
      "[255 255 255 ... 255 255 255]\n",
      "[255 255 255 ... 255 255 255]\n",
      "[255 255 255 ... 255 255 255]\n",
      "[255 255 255 ... 255 255 255]\n",
      "[255 255 255 ... 255 255 255]\n",
      "[255 255 255 ... 255 255 255]\n",
      "[255 255 255 ... 255 255 255]\n",
      "[255 255 255 ... 255 255 255]\n",
      "[255 255 255 ... 255 255 255]\n",
      "[255 255 255 ... 255 255 255]\n",
      "[255 255 255 ... 255 255 255]\n",
      "[255 255 255 ... 255 255 255]\n",
      "[255 255 255 ... 255 255 255]\n",
      "[255 255 255 ... 255 255 255]\n",
      "[255 255 255 ... 255 255 255]\n",
      "[255 255 255 ... 255 255 255]\n",
      "[255 255 255 ... 255 255 255]\n",
      "[251 255 250 ... 255 255 255]\n",
      "[254 255 255 ... 255 255 255]\n",
      "[255 255 255 ... 255 255 255]\n",
      "[251 255 249 ... 255 255 255]\n",
      "[255 253 255 ... 255 255 255]\n",
      "[255 255 255 ... 255 255 255]\n",
      "[255 253 250 ... 255 255 255]\n",
      "[249 255 248 ... 255 255 255]\n",
      "[255 255 255 ... 255 255 255]\n",
      "[255 253 255 ... 255 255 255]\n",
      "[254 255 251 ... 255 255 255]\n",
      "[254 255 255 ... 255 255 255]\n",
      "[255 255 255 ... 255 255 255]\n",
      "[247 255 249 ... 255 255 255]\n",
      "[247 255 249 ... 255 255 255]\n",
      "[254 255 255 ... 255 255 255]\n",
      "[255 255 255 ... 255 255 255]\n",
      "[254 255 255 ... 255 255 255]\n",
      "[254 255 250 ... 255 255 255]\n",
      "[255 254 250 ... 255 255 255]\n",
      "[255 255 255 ... 255 255 255]\n",
      "[255 255 255 ... 255 255 255]\n",
      "[248 255 248 ... 255 255 255]\n",
      "[255 253 250 ... 255 255 255]\n"
     ]
    }
   ],
   "source": [
    "#Proof That they are all 2d arrays\n",
    "\n",
    "for i in ModelJPGArrays:\n",
    "    print(i.shape)"
   ]
  },
  {
   "cell_type": "code",
   "execution_count": 4,
   "metadata": {},
   "outputs": [],
   "source": [
    "#https://github.com/mGalarnyk/Python_Tutorials/blob/master/Sklearn/Logistic_Regression/LogisticRegression_toy_digits.ipynb\n",
    "#Import Machine Learning dependencies\n",
    "from sklearn.datasets import load_digits\n",
    "from sklearn.model_selection import train_test_split\n",
    "from sklearn.linear_model import LogisticRegression\n",
    "import numpy as np \n",
    "\n",
    "import matplotlib.pyplot as plt\n",
    "import seaborn as sns\n",
    "\n",
    "# Used for Confusion Matrix\n",
    "from sklearn import metrics"
   ]
  },
  {
   "cell_type": "code",
   "execution_count": 5,
   "metadata": {},
   "outputs": [],
   "source": [
    "# test_size: what proportion of original data is used for test set\n",
    "x_train, x_test, y_train, y_test = train_test_split(\n",
    "    ModelJPGArrays, Labels, test_size=0.25, random_state=0)"
   ]
  },
  {
   "cell_type": "code",
   "execution_count": 6,
   "metadata": {},
   "outputs": [],
   "source": [
    "#Make Instance of Logistic Regression Model\n",
    "FruitRegr = LogisticRegression()"
   ]
  },
  {
   "cell_type": "code",
   "execution_count": 7,
   "metadata": {},
   "outputs": [
    {
     "data": {
      "text/plain": [
       "1234"
      ]
     },
     "execution_count": 7,
     "metadata": {},
     "output_type": "execute_result"
    }
   ],
   "source": [
    "len(x_train)"
   ]
  },
  {
   "cell_type": "code",
   "execution_count": 8,
   "metadata": {},
   "outputs": [
    {
     "name": "stderr",
     "output_type": "stream",
     "text": [
      "//anaconda3/lib/python3.7/site-packages/sklearn/linear_model/logistic.py:432: FutureWarning: Default solver will be changed to 'lbfgs' in 0.22. Specify a solver to silence this warning.\n",
      "  FutureWarning)\n",
      "//anaconda3/lib/python3.7/site-packages/sklearn/linear_model/logistic.py:469: FutureWarning: Default multi_class will be changed to 'auto' in 0.22. Specify the multi_class option to silence this warning.\n",
      "  \"this warning.\", FutureWarning)\n"
     ]
    },
    {
     "data": {
      "text/plain": [
       "LogisticRegression(C=1.0, class_weight=None, dual=False, fit_intercept=True,\n",
       "                   intercept_scaling=1, l1_ratio=None, max_iter=100,\n",
       "                   multi_class='warn', n_jobs=None, penalty='l2',\n",
       "                   random_state=None, solver='warn', tol=0.0001, verbose=0,\n",
       "                   warm_start=False)"
      ]
     },
     "execution_count": 8,
     "metadata": {},
     "output_type": "execute_result"
    }
   ],
   "source": [
    "#Train Model\n",
    "FruitRegr.fit(x_train, y_train)"
   ]
  },
  {
   "cell_type": "code",
   "execution_count": 42,
   "metadata": {},
   "outputs": [
    {
     "data": {
      "text/plain": [
       "(100, 100, 3)"
      ]
     },
     "execution_count": 42,
     "metadata": {},
     "output_type": "execute_result"
    }
   ],
   "source": [
    "Predictjpg = ('Fruits/To_Predict/6.jpg')\n",
    "Predictjpgarray = io.imread(Predictjpg)\n",
    "# Predictjpgarray = Predictjpgarray.reshape(-1)\n",
    "Predictjpgarray.shape\n",
    "# FruitRegr.predict(Predictjpgarray.reshape(-1,1))\n",
    "#         jpgarray = jpgarray.reshape((nsamples,nx*ny))\n",
    "#         jpgarray = jpgarray.transpose(2,0,1).reshape(3,-1)"
   ]
  },
  {
   "cell_type": "code",
   "execution_count": 43,
   "metadata": {},
   "outputs": [
    {
     "data": {
      "text/plain": [
       "(1, 30000)"
      ]
     },
     "execution_count": 43,
     "metadata": {},
     "output_type": "execute_result"
    }
   ],
   "source": [
    "x=Predictjpgarray.reshape(1,-1)\n",
    "x.shape"
   ]
  },
  {
   "cell_type": "code",
   "execution_count": 45,
   "metadata": {},
   "outputs": [
    {
     "data": {
      "text/plain": [
       "array([4])"
      ]
     },
     "execution_count": 45,
     "metadata": {},
     "output_type": "execute_result"
    }
   ],
   "source": [
    "FruitRegr.predict(x)"
   ]
  },
  {
   "cell_type": "code",
   "execution_count": 46,
   "metadata": {},
   "outputs": [
    {
     "ename": "TypeError",
     "evalue": "Expected sequence or array-like, got <class 'int'>",
     "output_type": "error",
     "traceback": [
      "\u001b[0;31m---------------------------------------------------------------------------\u001b[0m",
      "\u001b[0;31mTypeError\u001b[0m                                 Traceback (most recent call last)",
      "\u001b[0;32m<ipython-input-46-6086774f5996>\u001b[0m in \u001b[0;36m<module>\u001b[0;34m\u001b[0m\n\u001b[0;32m----> 1\u001b[0;31m \u001b[0mFruitRegr\u001b[0m\u001b[0;34m.\u001b[0m\u001b[0mscore\u001b[0m\u001b[0;34m(\u001b[0m\u001b[0mx\u001b[0m\u001b[0;34m,\u001b[0m \u001b[0;36m4\u001b[0m\u001b[0;34m)\u001b[0m\u001b[0;34m\u001b[0m\u001b[0;34m\u001b[0m\u001b[0m\n\u001b[0m",
      "\u001b[0;32m//anaconda3/lib/python3.7/site-packages/sklearn/base.py\u001b[0m in \u001b[0;36mscore\u001b[0;34m(self, X, y, sample_weight)\u001b[0m\n\u001b[1;32m    355\u001b[0m         \"\"\"\n\u001b[1;32m    356\u001b[0m         \u001b[0;32mfrom\u001b[0m \u001b[0;34m.\u001b[0m\u001b[0mmetrics\u001b[0m \u001b[0;32mimport\u001b[0m \u001b[0maccuracy_score\u001b[0m\u001b[0;34m\u001b[0m\u001b[0;34m\u001b[0m\u001b[0m\n\u001b[0;32m--> 357\u001b[0;31m         \u001b[0;32mreturn\u001b[0m \u001b[0maccuracy_score\u001b[0m\u001b[0;34m(\u001b[0m\u001b[0my\u001b[0m\u001b[0;34m,\u001b[0m \u001b[0mself\u001b[0m\u001b[0;34m.\u001b[0m\u001b[0mpredict\u001b[0m\u001b[0;34m(\u001b[0m\u001b[0mX\u001b[0m\u001b[0;34m)\u001b[0m\u001b[0;34m,\u001b[0m \u001b[0msample_weight\u001b[0m\u001b[0;34m=\u001b[0m\u001b[0msample_weight\u001b[0m\u001b[0;34m)\u001b[0m\u001b[0;34m\u001b[0m\u001b[0;34m\u001b[0m\u001b[0m\n\u001b[0m\u001b[1;32m    358\u001b[0m \u001b[0;34m\u001b[0m\u001b[0m\n\u001b[1;32m    359\u001b[0m \u001b[0;34m\u001b[0m\u001b[0m\n",
      "\u001b[0;32m//anaconda3/lib/python3.7/site-packages/sklearn/metrics/classification.py\u001b[0m in \u001b[0;36maccuracy_score\u001b[0;34m(y_true, y_pred, normalize, sample_weight)\u001b[0m\n\u001b[1;32m    174\u001b[0m \u001b[0;34m\u001b[0m\u001b[0m\n\u001b[1;32m    175\u001b[0m     \u001b[0;31m# Compute accuracy for each possible representation\u001b[0m\u001b[0;34m\u001b[0m\u001b[0;34m\u001b[0m\u001b[0;34m\u001b[0m\u001b[0m\n\u001b[0;32m--> 176\u001b[0;31m     \u001b[0my_type\u001b[0m\u001b[0;34m,\u001b[0m \u001b[0my_true\u001b[0m\u001b[0;34m,\u001b[0m \u001b[0my_pred\u001b[0m \u001b[0;34m=\u001b[0m \u001b[0m_check_targets\u001b[0m\u001b[0;34m(\u001b[0m\u001b[0my_true\u001b[0m\u001b[0;34m,\u001b[0m \u001b[0my_pred\u001b[0m\u001b[0;34m)\u001b[0m\u001b[0;34m\u001b[0m\u001b[0;34m\u001b[0m\u001b[0m\n\u001b[0m\u001b[1;32m    177\u001b[0m     \u001b[0mcheck_consistent_length\u001b[0m\u001b[0;34m(\u001b[0m\u001b[0my_true\u001b[0m\u001b[0;34m,\u001b[0m \u001b[0my_pred\u001b[0m\u001b[0;34m,\u001b[0m \u001b[0msample_weight\u001b[0m\u001b[0;34m)\u001b[0m\u001b[0;34m\u001b[0m\u001b[0;34m\u001b[0m\u001b[0m\n\u001b[1;32m    178\u001b[0m     \u001b[0;32mif\u001b[0m \u001b[0my_type\u001b[0m\u001b[0;34m.\u001b[0m\u001b[0mstartswith\u001b[0m\u001b[0;34m(\u001b[0m\u001b[0;34m'multilabel'\u001b[0m\u001b[0;34m)\u001b[0m\u001b[0;34m:\u001b[0m\u001b[0;34m\u001b[0m\u001b[0;34m\u001b[0m\u001b[0m\n",
      "\u001b[0;32m//anaconda3/lib/python3.7/site-packages/sklearn/metrics/classification.py\u001b[0m in \u001b[0;36m_check_targets\u001b[0;34m(y_true, y_pred)\u001b[0m\n\u001b[1;32m     69\u001b[0m     \u001b[0my_pred\u001b[0m \u001b[0;34m:\u001b[0m \u001b[0marray\u001b[0m \u001b[0;32mor\u001b[0m \u001b[0mindicator\u001b[0m \u001b[0mmatrix\u001b[0m\u001b[0;34m\u001b[0m\u001b[0;34m\u001b[0m\u001b[0m\n\u001b[1;32m     70\u001b[0m     \"\"\"\n\u001b[0;32m---> 71\u001b[0;31m     \u001b[0mcheck_consistent_length\u001b[0m\u001b[0;34m(\u001b[0m\u001b[0my_true\u001b[0m\u001b[0;34m,\u001b[0m \u001b[0my_pred\u001b[0m\u001b[0;34m)\u001b[0m\u001b[0;34m\u001b[0m\u001b[0;34m\u001b[0m\u001b[0m\n\u001b[0m\u001b[1;32m     72\u001b[0m     \u001b[0mtype_true\u001b[0m \u001b[0;34m=\u001b[0m \u001b[0mtype_of_target\u001b[0m\u001b[0;34m(\u001b[0m\u001b[0my_true\u001b[0m\u001b[0;34m)\u001b[0m\u001b[0;34m\u001b[0m\u001b[0;34m\u001b[0m\u001b[0m\n\u001b[1;32m     73\u001b[0m     \u001b[0mtype_pred\u001b[0m \u001b[0;34m=\u001b[0m \u001b[0mtype_of_target\u001b[0m\u001b[0;34m(\u001b[0m\u001b[0my_pred\u001b[0m\u001b[0;34m)\u001b[0m\u001b[0;34m\u001b[0m\u001b[0;34m\u001b[0m\u001b[0m\n",
      "\u001b[0;32m//anaconda3/lib/python3.7/site-packages/sklearn/utils/validation.py\u001b[0m in \u001b[0;36mcheck_consistent_length\u001b[0;34m(*arrays)\u001b[0m\n\u001b[1;32m    199\u001b[0m     \"\"\"\n\u001b[1;32m    200\u001b[0m \u001b[0;34m\u001b[0m\u001b[0m\n\u001b[0;32m--> 201\u001b[0;31m     \u001b[0mlengths\u001b[0m \u001b[0;34m=\u001b[0m \u001b[0;34m[\u001b[0m\u001b[0m_num_samples\u001b[0m\u001b[0;34m(\u001b[0m\u001b[0mX\u001b[0m\u001b[0;34m)\u001b[0m \u001b[0;32mfor\u001b[0m \u001b[0mX\u001b[0m \u001b[0;32min\u001b[0m \u001b[0marrays\u001b[0m \u001b[0;32mif\u001b[0m \u001b[0mX\u001b[0m \u001b[0;32mis\u001b[0m \u001b[0;32mnot\u001b[0m \u001b[0;32mNone\u001b[0m\u001b[0;34m]\u001b[0m\u001b[0;34m\u001b[0m\u001b[0;34m\u001b[0m\u001b[0m\n\u001b[0m\u001b[1;32m    202\u001b[0m     \u001b[0muniques\u001b[0m \u001b[0;34m=\u001b[0m \u001b[0mnp\u001b[0m\u001b[0;34m.\u001b[0m\u001b[0munique\u001b[0m\u001b[0;34m(\u001b[0m\u001b[0mlengths\u001b[0m\u001b[0;34m)\u001b[0m\u001b[0;34m\u001b[0m\u001b[0;34m\u001b[0m\u001b[0m\n\u001b[1;32m    203\u001b[0m     \u001b[0;32mif\u001b[0m \u001b[0mlen\u001b[0m\u001b[0;34m(\u001b[0m\u001b[0muniques\u001b[0m\u001b[0;34m)\u001b[0m \u001b[0;34m>\u001b[0m \u001b[0;36m1\u001b[0m\u001b[0;34m:\u001b[0m\u001b[0;34m\u001b[0m\u001b[0;34m\u001b[0m\u001b[0m\n",
      "\u001b[0;32m//anaconda3/lib/python3.7/site-packages/sklearn/utils/validation.py\u001b[0m in \u001b[0;36m<listcomp>\u001b[0;34m(.0)\u001b[0m\n\u001b[1;32m    199\u001b[0m     \"\"\"\n\u001b[1;32m    200\u001b[0m \u001b[0;34m\u001b[0m\u001b[0m\n\u001b[0;32m--> 201\u001b[0;31m     \u001b[0mlengths\u001b[0m \u001b[0;34m=\u001b[0m \u001b[0;34m[\u001b[0m\u001b[0m_num_samples\u001b[0m\u001b[0;34m(\u001b[0m\u001b[0mX\u001b[0m\u001b[0;34m)\u001b[0m \u001b[0;32mfor\u001b[0m \u001b[0mX\u001b[0m \u001b[0;32min\u001b[0m \u001b[0marrays\u001b[0m \u001b[0;32mif\u001b[0m \u001b[0mX\u001b[0m \u001b[0;32mis\u001b[0m \u001b[0;32mnot\u001b[0m \u001b[0;32mNone\u001b[0m\u001b[0;34m]\u001b[0m\u001b[0;34m\u001b[0m\u001b[0;34m\u001b[0m\u001b[0m\n\u001b[0m\u001b[1;32m    202\u001b[0m     \u001b[0muniques\u001b[0m \u001b[0;34m=\u001b[0m \u001b[0mnp\u001b[0m\u001b[0;34m.\u001b[0m\u001b[0munique\u001b[0m\u001b[0;34m(\u001b[0m\u001b[0mlengths\u001b[0m\u001b[0;34m)\u001b[0m\u001b[0;34m\u001b[0m\u001b[0;34m\u001b[0m\u001b[0m\n\u001b[1;32m    203\u001b[0m     \u001b[0;32mif\u001b[0m \u001b[0mlen\u001b[0m\u001b[0;34m(\u001b[0m\u001b[0muniques\u001b[0m\u001b[0;34m)\u001b[0m \u001b[0;34m>\u001b[0m \u001b[0;36m1\u001b[0m\u001b[0;34m:\u001b[0m\u001b[0;34m\u001b[0m\u001b[0;34m\u001b[0m\u001b[0m\n",
      "\u001b[0;32m//anaconda3/lib/python3.7/site-packages/sklearn/utils/validation.py\u001b[0m in \u001b[0;36m_num_samples\u001b[0;34m(x)\u001b[0m\n\u001b[1;32m    140\u001b[0m         \u001b[0;32melse\u001b[0m\u001b[0;34m:\u001b[0m\u001b[0;34m\u001b[0m\u001b[0;34m\u001b[0m\u001b[0m\n\u001b[1;32m    141\u001b[0m             raise TypeError(\"Expected sequence or array-like, got %s\" %\n\u001b[0;32m--> 142\u001b[0;31m                             type(x))\n\u001b[0m\u001b[1;32m    143\u001b[0m     \u001b[0;32mif\u001b[0m \u001b[0mhasattr\u001b[0m\u001b[0;34m(\u001b[0m\u001b[0mx\u001b[0m\u001b[0;34m,\u001b[0m \u001b[0;34m'shape'\u001b[0m\u001b[0;34m)\u001b[0m\u001b[0;34m:\u001b[0m\u001b[0;34m\u001b[0m\u001b[0;34m\u001b[0m\u001b[0m\n\u001b[1;32m    144\u001b[0m         \u001b[0;32mif\u001b[0m \u001b[0mlen\u001b[0m\u001b[0;34m(\u001b[0m\u001b[0mx\u001b[0m\u001b[0;34m.\u001b[0m\u001b[0mshape\u001b[0m\u001b[0;34m)\u001b[0m \u001b[0;34m==\u001b[0m \u001b[0;36m0\u001b[0m\u001b[0;34m:\u001b[0m\u001b[0;34m\u001b[0m\u001b[0;34m\u001b[0m\u001b[0m\n",
      "\u001b[0;31mTypeError\u001b[0m: Expected sequence or array-like, got <class 'int'>"
     ]
    }
   ],
   "source": [
    "FruitRegr.score(x_test, y_test)"
   ]
  },
  {
   "cell_type": "code",
   "execution_count": 50,
   "metadata": {},
   "outputs": [
    {
     "name": "stdout",
     "output_type": "stream",
     "text": [
      "Accuracy of logistic regression classifier on test set: 1.00\n"
     ]
    }
   ],
   "source": [
    "y_pred = FruitRegr.predict(x_test)\n",
    "print('Accuracy of logistic regression classifier on test set: {:.2f}'.format(FruitRegr.score(x_test, y_test)))\n",
    "\n",
    "\n",
    "\n",
    "\n"
   ]
  },
  {
   "cell_type": "code",
   "execution_count": 51,
   "metadata": {},
   "outputs": [
    {
     "name": "stdout",
     "output_type": "stream",
     "text": [
      "[[41  0  0  0  0  0  0  0  0  0]\n",
      " [ 0 46  0  0  0  0  0  0  0  0]\n",
      " [ 0  0 42  0  0  0  0  0  0  0]\n",
      " [ 0  0  0 48  0  0  0  0  0  0]\n",
      " [ 0  0  0  0 33  0  0  0  0  0]\n",
      " [ 0  0  0  0  0 43  0  0  0  0]\n",
      " [ 0  0  0  0  0  0 39  0  0  0]\n",
      " [ 0  0  0  0  0  0  0 44  0  0]\n",
      " [ 0  0  0  0  0  0  0  0 34  0]\n",
      " [ 0  0  0  0  0  0  0  0  0 42]]\n"
     ]
    }
   ],
   "source": [
    "# https://towardsdatascience.com/building-a-logistic-regression-in-python-step-by-step-becd4d56c9c8\n",
    "from sklearn.metrics import confusion_matrix\n",
    "confusion_matrix = confusion_matrix(y_test, y_pred)\n",
    "print(confusion_matrix)"
   ]
  },
  {
   "cell_type": "code",
   "execution_count": 52,
   "metadata": {},
   "outputs": [
    {
     "name": "stdout",
     "output_type": "stream",
     "text": [
      "              precision    recall  f1-score   support\n",
      "\n",
      "           1       1.00      1.00      1.00        41\n",
      "           2       1.00      1.00      1.00        46\n",
      "           3       1.00      1.00      1.00        42\n",
      "           4       1.00      1.00      1.00        48\n",
      "           5       1.00      1.00      1.00        33\n",
      "           6       1.00      1.00      1.00        43\n",
      "           7       1.00      1.00      1.00        39\n",
      "           8       1.00      1.00      1.00        44\n",
      "           9       1.00      1.00      1.00        34\n",
      "          10       1.00      1.00      1.00        42\n",
      "\n",
      "    accuracy                           1.00       412\n",
      "   macro avg       1.00      1.00      1.00       412\n",
      "weighted avg       1.00      1.00      1.00       412\n",
      "\n"
     ]
    }
   ],
   "source": [
    "from sklearn.metrics import classification_report\n",
    "print(classification_report(y_test, y_pred))"
   ]
  },
  {
   "cell_type": "code",
   "execution_count": null,
   "metadata": {},
   "outputs": [],
   "source": [
    "# Create the RFE object and rank each pixel\n",
    "#https://scikit-learn.org/stable/auto_examples/feature_selection/plot_rfe_digits.html#sphx-glr-auto-examples-feature-selection-plot-rfe-digits-py\n",
    "from sklearn.svm import SVC\n",
    "from sklearn.feature_selection import RFE\n",
    "svc = SVC(kernel=\"linear\", C=1)\n",
    "rfe = RFE(estimator=svc, n_features_to_select=1, step=1)\n",
    "rfe.fit(x_train, y_train)\n",
    "ranking = rfe.ranking_.reshape(digits.images[0].shape)\n",
    "\n",
    "# Plot pixel ranking\n",
    "plt.matshow(ranking, cmap=plt.cm.Blues)\n",
    "plt.colorbar()\n",
    "plt.title(\"Ranking of pixels with RFE\")\n",
    "plt.show()"
   ]
  },
  {
   "cell_type": "code",
   "execution_count": null,
   "metadata": {},
   "outputs": [],
   "source": [
    "print(\"Lengnth: x_train: \" + len(x_train) + \"Length: y_train: \" len(y_train))"
   ]
  },
  {
   "cell_type": "code",
   "execution_count": null,
   "metadata": {},
   "outputs": [],
   "source": [
    "# Create the RFE object and rank each pixel\n",
    "#https://scikit-learn.org/stable/auto_examples/feature_selection/plot_rfe_digits.html#sphx-glr-auto-examples-feature-selection-plot-rfe-digits-py\n",
    "from sklearn.svm import SVC\n",
    "from sklearn.feature_selection import RFE\n",
    "svc = SVC(kernel=\"linear\", C=1)\n",
    "rfe = RFE(estimator=svc, n_features_to_select=1, step=1)\n",
    "rfe.fit(x_train, y_train)\n",
    "ranking = rfe.ranking_.reshape(digits.images[0].shape)\n",
    "\n",
    "# Plot pixel ranking\n",
    "plt.matshow(ranking, cmap=plt.cm.Blues)\n",
    "plt.colorbar()\n",
    "plt.title(\"Ranking of pixels with RFE\")\n",
    "plt.show()"
   ]
  }
 ],
 "metadata": {
  "kernelspec": {
   "display_name": "Python 3",
   "language": "python",
   "name": "python3"
  },
  "language_info": {
   "codemirror_mode": {
    "name": "ipython",
    "version": 3
   },
   "file_extension": ".py",
   "mimetype": "text/x-python",
   "name": "python",
   "nbconvert_exporter": "python",
   "pygments_lexer": "ipython3",
   "version": "3.7.3"
  }
 },
 "nbformat": 4,
 "nbformat_minor": 2
}
