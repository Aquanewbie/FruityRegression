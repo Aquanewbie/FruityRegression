{
 "cells": [
  {
   "cell_type": "code",
   "execution_count": 1,
   "metadata": {},
   "outputs": [],
   "source": [
    "#Folders with Images\n",
    "Folders = [\"1_Pineapples\", \"2_Strawberry\", \"3_Banana\", \"4_Lychee\", \"5_Apple\",\n",
    "           \"6_Raspberry\", \"7_Peach\", \"8_Orange\", \"9_Lime\", \"10_Pomegranate\"]"
   ]
  },
  {
   "cell_type": "code",
   "execution_count": 2,
   "metadata": {},
   "outputs": [],
   "source": [
    "#Convert Pineapple Images to Arrays\n",
    "#Reference for Converting JPGs to Arrays\n",
    "#https://scikit-image.org/docs/dev/user_guide/getting_started.html\n",
    "\n",
    "#Conversion 3d array to 2d\n",
    "# nsamples, nx, ny = ModelJPGArrays.shape\n",
    "# d2_train_dataset = ModelJPGArrays.reshape((nsamples,nx*ny))\n",
    "\n",
    "import os\n",
    "from skimage import io, color\n",
    "\n",
    "#Define a list of all JPG Arrays\n",
    "ModelJPGArrays = []\n",
    "Labels = []\n",
    "\n",
    "#Append ModelJPGArrays \n",
    "directory = 'Fruits/1_Pineapples/'\n",
    "PineappleArrays = []\n",
    "for file in os.listdir(directory):\n",
    "   if file.endswith(\".jpg\"):\n",
    "        jpg = (f'Fruits/1_Pineapples/{file}')\n",
    "        jpgarray = io.imread(jpg)\n",
    "        jpgarray = jpgarray.reshape(-1)\n",
    "#         nsamples, nx, ny = jpgarray.shape\n",
    "#         jpgarray = jpgarray.reshape((nsamples,nx*ny))\n",
    "#         jpgarray = jpgarray.transpose(2,0,1).reshape(3,-1)\n",
    "#         jpgarray = color.rgb2gray(jpgarray)\n",
    "        PineappleArrays.append(jpgarray)\n",
    "        ModelJPGArrays.append(jpgarray)\n",
    "        Labels.append(1)\n",
    "        \n",
    "directory = 'Fruits/2_Strawberry/'\n",
    "StrawberryArrays = []\n",
    "for file in os.listdir(directory):\n",
    "   if file.endswith(\".jpg\"):\n",
    "        jpg = (f'Fruits/2_Strawberry/{file}')\n",
    "        jpgarray = io.imread(jpg)\n",
    "        jpgarray = jpgarray.reshape(-1)\n",
    "#         nsamples, nx, ny = jpgarray.shape\n",
    "#         jpgarray = jpgarray.reshape((nsamples,nx*ny))\n",
    "#         jpgarray = jpgarray.transpose(2,0,1).reshape(3,-1)\n",
    "#         jpgarray = color.rgb2gray(jpgarray)\n",
    "        StrawberryArrays.append(jpgarray)\n",
    "        ModelJPGArrays.append(jpgarray)\n",
    "        Labels.append(2)   \n",
    "        \n",
    "directory = 'Fruits/3_Banana/'\n",
    "BananaArrays = []\n",
    "for file in os.listdir(directory):\n",
    "   if file.endswith(\".jpg\"):\n",
    "        jpg = (f'Fruits/3_Banana/{file}')\n",
    "        jpgarray = io.imread(jpg)\n",
    "        jpgarray = jpgarray.reshape(-1)\n",
    "#         nsamples, nx, ny = jpgarray.shape\n",
    "#         jpgarray = jpgarray.reshape((nsamples,nx*ny))\n",
    "#         jpgarray = jpgarray.transpose(2,0,1).reshape(3,-1)\n",
    "#         jpgarray = color.rgb2gray(jpgarray)\n",
    "        BananaArrays.append(jpgarray)\n",
    "        ModelJPGArrays.append(jpgarray)\n",
    "        Labels.append(3)\n",
    "        \n",
    "directory = 'Fruits/4_Lychee/'\n",
    "LycheeArrays = []\n",
    "for file in os.listdir(directory):\n",
    "   if file.endswith(\".jpg\"):\n",
    "        jpg = (f'Fruits/4_Lychee/{file}')\n",
    "        jpgarray = io.imread(jpg)\n",
    "        jpgarray = jpgarray.reshape(-1)\n",
    "#         nsamples, nx, ny = jpgarray.shape\n",
    "#         jpgarray = jpgarray.reshape((nsamples,nx*ny))\n",
    "#         jpgarray = jpgarray.transpose(2,0,1).reshape(3,-1)\n",
    "#         jpgarray = color.rgb2gray(jpgarray)\n",
    "        LycheeArrays.append(jpgarray)\n",
    "        ModelJPGArrays.append(jpgarray)\n",
    "        Labels.append(4)  \n",
    "        \n",
    "directory = 'Fruits/5_Apple/'\n",
    "AppleArrays = []\n",
    "for file in os.listdir(directory):\n",
    "   if file.endswith(\".jpg\"):\n",
    "        jpg = (f'Fruits/5_Apple/{file}')\n",
    "        jpgarray = io.imread(jpg)\n",
    "        jpgarray = jpgarray.reshape(-1)\n",
    "#         nsamples, nx, ny = jpgarray.shape\n",
    "#         jpgarray = jpgarray.reshape((nsamples,nx*ny))\n",
    "#         jpgarray = jpgarray.transpose(2,0,1).reshape(3,-1)\n",
    "#         jpgarray = color.rgb2gray(jpgarray)\n",
    "        AppleArrays.append(jpgarray)\n",
    "        ModelJPGArrays.append(jpgarray)\n",
    "        Labels.append(5)  \n",
    "        \n",
    "directory = 'Fruits/6_Raspberry/'\n",
    "RaspberryArrays = []\n",
    "for file in os.listdir(directory):\n",
    "   if file.endswith(\".jpg\"):\n",
    "        jpg = (f'Fruits/6_Raspberry/{file}')\n",
    "        jpgarray = io.imread(jpg)\n",
    "        jpgarray = jpgarray.reshape(-1)\n",
    "#         nsamples, nx, ny = jpgarray.shape\n",
    "#         jpgarray = jpgarray.reshape((nsamples,nx*ny))\n",
    "#         jpgarray = jpgarray.transpose(2,0,1).reshape(3,-1)\n",
    "#         jpgarray = color.rgb2gray(jpgarray)\n",
    "        RaspberryArrays.append(jpgarray)\n",
    "        ModelJPGArrays.append(jpgarray)\n",
    "        Labels.append(6)\n",
    "        \n",
    "directory = 'Fruits/7_Peach/'\n",
    "PeachArrays = []\n",
    "for file in os.listdir(directory):\n",
    "   if file.endswith(\".jpg\"):\n",
    "        jpg = (f'Fruits/7_Peach/{file}')\n",
    "        jpgarray = io.imread(jpg)\n",
    "        jpgarray = jpgarray.reshape(-1)\n",
    "#         nsamples, nx, ny = jpgarray.shape\n",
    "#         jpgarray = jpgarray.reshape((nsamples,nx*ny))\n",
    "#         jpgarray = jpgarray.transpose(2,0,1).reshape(3,-1)\n",
    "#         jpgarray = color.rgb2gray(jpgarray)\n",
    "        PeachArrays.append(jpgarray)\n",
    "        ModelJPGArrays.append(jpgarray)\n",
    "        Labels.append(7)\n",
    "        \n",
    "directory = 'Fruits/8_Orange/'\n",
    "OrangeArrays = []\n",
    "for file in os.listdir(directory):\n",
    "   if file.endswith(\".jpg\"):\n",
    "        jpg = (f'Fruits/8_Orange/{file}')\n",
    "        jpgarray = io.imread(jpg)\n",
    "        jpgarray = jpgarray.reshape(-1)\n",
    "#         nsamples, nx, ny = jpgarray.shape\n",
    "#         jpgarray = jpgarray.reshape((nsamples,nx*ny))\n",
    "#         jpgarray = jpgarray.transpose(2,0,1).reshape(3,-1)\n",
    "#         jpgarray = color.rgb2gray(jpgarray)\n",
    "        OrangeArrays.append(jpgarray)\n",
    "        ModelJPGArrays.append(jpgarray)\n",
    "        Labels.append(8)\n",
    "\n",
    "directory = 'Fruits/9_Lime/'\n",
    "LimeArrays = []\n",
    "for file in os.listdir(directory):\n",
    "   if file.endswith(\".jpg\"):\n",
    "        jpg = (f'Fruits/9_Lime/{file}')\n",
    "        jpgarray = io.imread(jpg)\n",
    "        jpgarray = jpgarray.reshape(-1)\n",
    "#         nsamples, nx, ny = jpgarray.shape\n",
    "#         jpgarray = jpgarray.reshape((nsamples,nx*ny))\n",
    "#         jpgarray = jpgarray.transpose(2,0,1).reshape(3,-1)\n",
    "#         jpgarray = color.rgb2gray(jpgarray)\n",
    "        LimeArrays.append(jpgarray)\n",
    "        ModelJPGArrays.append(jpgarray)\n",
    "        Labels.append(9)\n",
    "\n",
    "directory = 'Fruits/10_Pomegranate/'\n",
    "PomegranateArrays = []\n",
    "for file in os.listdir(directory):\n",
    "   if file.endswith(\".jpg\"):\n",
    "        jpg = (f'Fruits/10_Pomegranate/{file}')\n",
    "        jpgarray = io.imread(jpg)\n",
    "        jpgarray = jpgarray.reshape(-1)\n",
    "#         nsamples, nx, ny = jpgarray.shape\n",
    "#         jpgarray = jpgarray.reshape((nsamples,nx*ny))\n",
    "#         jpgarray = jpgarray.transpose(2,0,1).reshape(3,-1)\n",
    "#         jpgarray = color.rgb2gray(jpgarray)\n",
    "        PomegranateArrays.append(jpgarray)\n",
    "        ModelJPGArrays.append(jpgarray)\n",
    "        Labels.append(10)"
   ]
  },
  {
   "cell_type": "code",
   "execution_count": 3,
   "metadata": {},
   "outputs": [
    {
     "name": "stdout",
     "output_type": "stream",
     "text": [
      "24 24 24 24 24 24 24 24 24 24\n",
      "240\n",
      "240\n"
     ]
    }
   ],
   "source": [
    "#Confirm Length of All Fruit Arrays\n",
    "#Length of Labels should be 10 x 24\n",
    "print(len(PineappleArrays), len(StrawberryArrays), len(BananaArrays), len(LycheeArrays), len(AppleArrays), len(RaspberryArrays), len(PeachArrays), len(OrangeArrays), len(LimeArrays), len(PomegranateArrays))\n",
    "print(len(Labels))\n",
    "print(len(ModelJPGArrays))"
   ]
  },
  {
   "cell_type": "code",
   "execution_count": 5,
   "metadata": {},
   "outputs": [
    {
     "name": "stdout",
     "output_type": "stream",
     "text": [
      "[255 255 255 ... 255 255 255]\n",
      "[255 254 255 ... 255 255 255]\n",
      "[254 255 255 ... 255 255 255]\n",
      "[254 255 255 ... 255 255 255]\n",
      "[254 255 255 ... 255 255 255]\n",
      "[255 255 255 ... 255 255 255]\n",
      "[254 255 255 ... 255 255 255]\n",
      "[255 255 253 ... 255 255 255]\n",
      "[255 254 255 ... 255 255 255]\n",
      "[255 255 253 ... 255 255 255]\n",
      "[255 255 253 ... 255 255 255]\n",
      "[255 254 253 ... 255 255 255]\n",
      "[254 255 255 ... 255 255 255]\n",
      "[255 255 255 ... 255 255 255]\n",
      "[255 255 255 ... 255 255 255]\n",
      "[254 255 255 ... 255 255 255]\n",
      "[254 255 255 ... 255 255 255]\n",
      "[255 254 253 ... 255 255 255]\n",
      "[255 255 255 ... 255 255 255]\n",
      "[247 255 251 ... 255 255 255]\n",
      "[255 255 255 ... 255 255 255]\n",
      "[255 255 255 ... 255 255 255]\n",
      "[255 255 253 ... 255 255 255]\n",
      "[255 254 253 ... 255 255 255]\n",
      "[255 255 255 ... 255 255 255]\n",
      "[255 255 255 ... 255 255 255]\n",
      "[255 255 255 ... 255 255 255]\n",
      "[255 255 255 ... 255 255 255]\n",
      "[255 255 255 ... 255 255 255]\n",
      "[255 255 255 ... 255 255 255]\n",
      "[255 255 255 ... 255 255 255]\n",
      "[255 255 255 ... 255 255 255]\n",
      "[255 255 255 ... 255 255 255]\n",
      "[255 255 255 ... 255 255 255]\n",
      "[255 255 255 ... 255 255 255]\n",
      "[255 255 255 ... 255 255 255]\n",
      "[255 255 255 ... 255 255 255]\n",
      "[255 255 255 ... 255 255 255]\n",
      "[255 255 255 ... 255 255 255]\n",
      "[255 255 255 ... 255 255 255]\n",
      "[255 255 255 ... 255 255 255]\n",
      "[255 255 255 ... 255 255 255]\n",
      "[255 255 255 ... 255 255 255]\n",
      "[255 255 255 ... 255 255 255]\n",
      "[255 255 255 ... 255 255 255]\n",
      "[255 255 255 ... 255 255 255]\n",
      "[255 255 255 ... 255 255 255]\n",
      "[255 255 255 ... 255 255 255]\n",
      "[255 255 255 ... 255 255 255]\n",
      "[255 255 255 ... 255 255 255]\n",
      "[255 255 255 ... 255 255 255]\n",
      "[255 255 255 ... 255 255 255]\n",
      "[255 255 255 ... 255 255 255]\n",
      "[255 255 255 ... 255 255 255]\n",
      "[255 255 255 ... 255 255 255]\n",
      "[255 255 255 ... 255 255 255]\n",
      "[255 255 255 ... 255 255 255]\n",
      "[255 255 255 ... 255 255 255]\n",
      "[255 255 255 ... 255 255 255]\n",
      "[255 255 255 ... 255 255 255]\n",
      "[255 255 255 ... 255 255 255]\n",
      "[255 255 255 ... 255 255 255]\n",
      "[255 255 255 ... 255 255 255]\n",
      "[255 255 255 ... 255 255 255]\n",
      "[255 255 255 ... 255 255 255]\n",
      "[255 255 255 ... 255 255 255]\n",
      "[255 255 255 ... 255 255 255]\n",
      "[255 255 255 ... 255 255 255]\n",
      "[255 255 255 ... 255 255 255]\n",
      "[255 255 255 ... 255 255 255]\n",
      "[255 255 255 ... 255 255 255]\n",
      "[255 255 255 ... 255 255 255]\n",
      "[255 255 255 ... 255 255 255]\n",
      "[255 255 255 ... 255 255 255]\n",
      "[255 255 255 ... 255 255 255]\n",
      "[255 255 255 ... 255 255 255]\n",
      "[255 255 255 ... 255 255 255]\n",
      "[255 255 255 ... 255 255 255]\n",
      "[255 255 255 ... 255 255 255]\n",
      "[255 255 255 ... 255 255 255]\n",
      "[255 255 255 ... 255 255 255]\n",
      "[255 255 255 ... 255 255 255]\n",
      "[255 255 255 ... 255 255 255]\n",
      "[255 255 255 ... 255 255 255]\n",
      "[255 255 255 ... 255 255 255]\n",
      "[255 255 255 ... 255 255 255]\n",
      "[255 255 255 ... 255 255 255]\n",
      "[255 255 255 ... 255 255 255]\n",
      "[255 255 255 ... 255 255 255]\n",
      "[255 255 255 ... 255 255 255]\n",
      "[255 255 255 ... 255 255 255]\n",
      "[255 255 255 ... 255 255 255]\n",
      "[255 255 255 ... 255 255 255]\n",
      "[255 255 255 ... 255 255 255]\n",
      "[255 255 255 ... 255 255 255]\n",
      "[255 255 255 ... 255 255 255]\n",
      "[255 255 255 ... 255 255 255]\n",
      "[255 255 255 ... 255 255 255]\n",
      "[255 255 255 ... 255 255 255]\n",
      "[255 255 255 ... 255 255 255]\n",
      "[255 255 255 ... 255 255 255]\n",
      "[255 255 255 ... 255 255 255]\n",
      "[255 255 255 ... 255 255 255]\n",
      "[255 255 255 ... 255 255 255]\n",
      "[255 255 255 ... 255 255 255]\n",
      "[255 255 255 ... 255 255 255]\n",
      "[255 255 255 ... 255 255 255]\n",
      "[255 255 255 ... 255 255 255]\n",
      "[255 255 255 ... 255 255 255]\n",
      "[255 255 255 ... 255 255 255]\n",
      "[255 255 255 ... 255 255 255]\n",
      "[255 255 255 ... 255 255 255]\n",
      "[255 255 255 ... 255 255 255]\n",
      "[255 255 255 ... 255 255 255]\n",
      "[255 255 255 ... 255 255 255]\n",
      "[255 255 255 ... 255 255 255]\n",
      "[255 255 255 ... 255 255 255]\n",
      "[255 255 255 ... 255 255 255]\n",
      "[255 255 255 ... 255 255 255]\n",
      "[255 255 255 ... 255 255 255]\n",
      "[255 255 255 ... 255 255 255]\n",
      "[255 255 255 ... 255 255 255]\n",
      "[255 255 255 ... 255 255 255]\n",
      "[255 255 255 ... 255 255 255]\n",
      "[255 255 255 ... 255 255 255]\n",
      "[255 255 255 ... 255 255 255]\n",
      "[254 254 255 ... 255 255 255]\n",
      "[255 255 255 ... 255 255 255]\n",
      "[255 255 255 ... 255 255 255]\n",
      "[255 255 253 ... 255 255 255]\n",
      "[252 255 255 ... 255 255 255]\n",
      "[255 255 255 ... 255 255 255]\n",
      "[255 255 253 ... 255 255 255]\n",
      "[255 255 255 ... 255 255 255]\n",
      "[255 255 255 ... 255 255 255]\n",
      "[255 255 253 ... 255 255 255]\n",
      "[255 255 255 ... 255 255 255]\n",
      "[255 255 255 ... 255 255 255]\n",
      "[252 255 255 ... 255 255 255]\n",
      "[255 255 255 ... 255 255 255]\n",
      "[255 255 255 ... 255 255 255]\n",
      "[251 255 255 ... 255 255 255]\n",
      "[255 255 255 ... 255 255 255]\n",
      "[255 255 255 ... 255 255 255]\n",
      "[254 255 255 ... 255 255 255]\n",
      "[241 255 255 ... 255 255 255]\n",
      "[255 251 251 ... 255 255 255]\n",
      "[254 255 255 ... 255 255 255]\n",
      "[247 255 255 ... 255 255 255]\n",
      "[254 252 255 ... 255 255 255]\n",
      "[255 252 255 ... 255 255 255]\n",
      "[253 255 252 ... 255 255 255]\n",
      "[255 251 255 ... 255 255 255]\n",
      "[248 255 255 ... 255 255 255]\n",
      "[250 255 254 ... 255 255 255]\n",
      "[242 255 255 ... 255 255 255]\n",
      "[254 253 255 ... 255 255 255]\n",
      "[254 255 255 ... 255 255 255]\n",
      "[254 254 254 ... 255 255 255]\n",
      "[241 255 255 ... 255 255 255]\n",
      "[255 255 248 ... 255 255 255]\n",
      "[250 255 255 ... 255 255 255]\n",
      "[254 253 255 ... 255 255 255]\n",
      "[250 255 255 ... 255 255 255]\n",
      "[241 255 255 ... 255 255 255]\n",
      "[255 253 255 ... 255 255 255]\n",
      "[252 255 248 ... 255 255 255]\n",
      "[252 255 255 ... 255 255 255]\n",
      "[255 254 242 ... 255 255 255]\n",
      "[255 253 245 ... 255 255 255]\n",
      "[255 254 242 ... 255 255 255]\n",
      "[255 254 236 ... 255 255 255]\n",
      "[255 254 247 ... 255 255 255]\n",
      "[255 255 250 ... 255 255 255]\n",
      "[255 255 243 ... 255 255 255]\n",
      "[255 253 235 ... 255 255 255]\n",
      "[255 250 250 ... 255 255 255]\n",
      "[255 254 245 ... 255 255 255]\n",
      "[253 255 249 ... 255 255 255]\n",
      "[255 254 249 ... 255 255 255]\n",
      "[255 255 242 ... 255 255 255]\n",
      "[255 253 235 ... 255 255 255]\n",
      "[254 255 255 ... 255 255 255]\n",
      "[255 254 238 ... 255 255 255]\n",
      "[255 253 240 ... 255 255 255]\n",
      "[255 252 254 ... 255 255 255]\n",
      "[253 255 249 ... 255 255 255]\n",
      "[255 255 250 ... 255 255 255]\n",
      "[255 253 254 ... 255 255 255]\n",
      "[255 252 255 ... 255 255 255]\n",
      "[255 250 241 ... 255 255 255]\n",
      "[255 253 245 ... 255 255 255]\n",
      "[255 255 255 ... 255 255 255]\n",
      "[255 255 255 ... 255 255 255]\n",
      "[255 255 255 ... 255 255 255]\n",
      "[255 255 255 ... 255 255 255]\n",
      "[255 255 255 ... 255 255 255]\n",
      "[255 255 255 ... 255 255 255]\n",
      "[255 255 255 ... 255 255 255]\n",
      "[255 255 255 ... 255 255 255]\n",
      "[255 255 255 ... 255 255 255]\n",
      "[255 255 255 ... 255 255 255]\n",
      "[255 255 255 ... 255 255 255]\n",
      "[255 255 255 ... 255 255 255]\n",
      "[255 255 255 ... 255 255 255]\n",
      "[255 255 255 ... 255 255 255]\n",
      "[255 255 255 ... 255 255 255]\n",
      "[255 255 255 ... 255 255 255]\n",
      "[255 255 255 ... 255 255 255]\n",
      "[255 255 255 ... 255 255 255]\n",
      "[255 255 255 ... 255 255 255]\n",
      "[255 255 255 ... 255 255 255]\n",
      "[255 255 255 ... 255 255 255]\n",
      "[255 255 255 ... 255 255 255]\n",
      "[255 255 255 ... 255 255 255]\n",
      "[255 255 255 ... 255 255 255]\n",
      "[251 255 250 ... 255 255 255]\n",
      "[254 255 255 ... 255 255 255]\n",
      "[255 255 255 ... 255 255 255]\n",
      "[251 255 249 ... 255 255 255]\n",
      "[255 253 255 ... 255 255 255]\n",
      "[255 255 255 ... 255 255 255]\n",
      "[255 253 250 ... 255 255 255]\n",
      "[249 255 248 ... 255 255 255]\n",
      "[255 255 255 ... 255 255 255]\n",
      "[255 253 255 ... 255 255 255]\n",
      "[254 255 251 ... 255 255 255]\n",
      "[254 255 255 ... 255 255 255]\n",
      "[255 255 255 ... 255 255 255]\n",
      "[247 255 249 ... 255 255 255]\n",
      "[247 255 249 ... 255 255 255]\n",
      "[254 255 255 ... 255 255 255]\n",
      "[255 255 255 ... 255 255 255]\n",
      "[254 255 255 ... 255 255 255]\n",
      "[254 255 250 ... 255 255 255]\n",
      "[255 254 250 ... 255 255 255]\n",
      "[255 255 255 ... 255 255 255]\n",
      "[255 255 255 ... 255 255 255]\n",
      "[248 255 248 ... 255 255 255]\n",
      "[255 253 250 ... 255 255 255]\n"
     ]
    }
   ],
   "source": [
    "#Proof That they are all 2d arrays\n",
    "\n",
    "for i in ModelJPGArrays:\n",
    "    print(i.shape)"
   ]
  },
  {
   "cell_type": "code",
   "execution_count": 6,
   "metadata": {},
   "outputs": [],
   "source": [
    "#https://github.com/mGalarnyk/Python_Tutorials/blob/master/Sklearn/Logistic_Regression/LogisticRegression_toy_digits.ipynb\n",
    "#Import Machine Learning dependencies\n",
    "from sklearn.datasets import load_digits\n",
    "from sklearn.model_selection import train_test_split\n",
    "from sklearn.linear_model import LogisticRegression\n",
    "import numpy as np \n",
    "\n",
    "import matplotlib.pyplot as plt\n",
    "import seaborn as sns\n",
    "\n",
    "# Used for Confusion Matrix\n",
    "from sklearn import metrics"
   ]
  },
  {
   "cell_type": "code",
   "execution_count": 22,
   "metadata": {},
   "outputs": [],
   "source": [
    "# nsamples, nx, ny = ModelJPGArrays[1].shape\n",
    "# d2_ModelJPGArrays = ModelJPGArrays[1].reshape((nsamples,nx*ny))"
   ]
  },
  {
   "cell_type": "code",
   "execution_count": 7,
   "metadata": {},
   "outputs": [],
   "source": [
    "# test_size: what proportion of original data is used for test set\n",
    "x_train, x_test, y_train, y_test = train_test_split(\n",
    "    ModelJPGArrays, Labels, test_size=0.25, random_state=0)"
   ]
  },
  {
   "cell_type": "code",
   "execution_count": 8,
   "metadata": {},
   "outputs": [],
   "source": [
    "#Make Instance of Logistic Regression Model\n",
    "FruitRegr = LogisticRegression()"
   ]
  },
  {
   "cell_type": "code",
   "execution_count": 9,
   "metadata": {},
   "outputs": [
    {
     "data": {
      "text/plain": [
       "180"
      ]
     },
     "execution_count": 9,
     "metadata": {},
     "output_type": "execute_result"
    }
   ],
   "source": [
    "len(x_train)"
   ]
  },
  {
   "cell_type": "code",
   "execution_count": 10,
   "metadata": {},
   "outputs": [
    {
     "name": "stderr",
     "output_type": "stream",
     "text": [
      "//anaconda3/lib/python3.7/site-packages/sklearn/linear_model/logistic.py:432: FutureWarning: Default solver will be changed to 'lbfgs' in 0.22. Specify a solver to silence this warning.\n",
      "  FutureWarning)\n",
      "//anaconda3/lib/python3.7/site-packages/sklearn/linear_model/logistic.py:469: FutureWarning: Default multi_class will be changed to 'auto' in 0.22. Specify the multi_class option to silence this warning.\n",
      "  \"this warning.\", FutureWarning)\n"
     ]
    },
    {
     "data": {
      "text/plain": [
       "LogisticRegression(C=1.0, class_weight=None, dual=False, fit_intercept=True,\n",
       "                   intercept_scaling=1, l1_ratio=None, max_iter=100,\n",
       "                   multi_class='warn', n_jobs=None, penalty='l2',\n",
       "                   random_state=None, solver='warn', tol=0.0001, verbose=0,\n",
       "                   warm_start=False)"
      ]
     },
     "execution_count": 10,
     "metadata": {},
     "output_type": "execute_result"
    }
   ],
   "source": [
    "#Train Model\n",
    "FruitRegr.fit(x_train, y_train)"
   ]
  },
  {
   "cell_type": "code",
   "execution_count": 40,
   "metadata": {},
   "outputs": [
    {
     "data": {
      "text/plain": [
       "(100, 100, 3)"
      ]
     },
     "execution_count": 40,
     "metadata": {},
     "output_type": "execute_result"
    }
   ],
   "source": [
    "Predictjpg = ('Fruits/To_Predict/2.jpg')\n",
    "Predictjpgarray = io.imread(Predictjpg)\n",
    "# Predictjpgarray = Predictjpgarray.reshape(-1)\n",
    "Predictjpgarray.shape\n",
    "# FruitRegr.predict(Predictjpgarray.reshape(-1,1))\n",
    "#         jpgarray = jpgarray.reshape((nsamples,nx*ny))\n",
    "#         jpgarray = jpgarray.transpose(2,0,1).reshape(3,-1)"
   ]
  },
  {
   "cell_type": "code",
   "execution_count": 41,
   "metadata": {},
   "outputs": [
    {
     "data": {
      "text/plain": [
       "(1, 30000)"
      ]
     },
     "execution_count": 41,
     "metadata": {},
     "output_type": "execute_result"
    }
   ],
   "source": [
    "x=Predictjpgarray.reshape(1,-1)\n",
    "x.shape"
   ]
  },
  {
   "cell_type": "code",
   "execution_count": 43,
   "metadata": {},
   "outputs": [
    {
     "data": {
      "text/plain": [
       "array([3])"
      ]
     },
     "execution_count": 43,
     "metadata": {},
     "output_type": "execute_result"
    }
   ],
   "source": [
    "FruitRegr.predict(x)"
   ]
  },
  {
   "cell_type": "code",
   "execution_count": 37,
   "metadata": {},
   "outputs": [
    {
     "data": {
      "text/plain": [
       "array([6])"
      ]
     },
     "execution_count": 37,
     "metadata": {},
     "output_type": "execute_result"
    }
   ],
   "source": []
  },
  {
   "cell_type": "code",
   "execution_count": 38,
   "metadata": {},
   "outputs": [
    {
     "data": {
      "text/plain": [
       "array([6])"
      ]
     },
     "execution_count": 38,
     "metadata": {},
     "output_type": "execute_result"
    }
   ],
   "source": []
  },
  {
   "cell_type": "code",
   "execution_count": 39,
   "metadata": {},
   "outputs": [
    {
     "data": {
      "text/plain": [
       "array([6])"
      ]
     },
     "execution_count": 39,
     "metadata": {},
     "output_type": "execute_result"
    }
   ],
   "source": []
  },
  {
   "cell_type": "code",
   "execution_count": null,
   "metadata": {},
   "outputs": [],
   "source": []
  }
 ],
 "metadata": {
  "kernelspec": {
   "display_name": "Python 3",
   "language": "python",
   "name": "python3"
  },
  "language_info": {
   "codemirror_mode": {
    "name": "ipython",
    "version": 3
   },
   "file_extension": ".py",
   "mimetype": "text/x-python",
   "name": "python",
   "nbconvert_exporter": "python",
   "pygments_lexer": "ipython3",
   "version": "3.7.3"
  }
 },
 "nbformat": 4,
 "nbformat_minor": 2
}
