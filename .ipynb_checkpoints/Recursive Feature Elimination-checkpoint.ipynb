{
 "cells": [
  {
   "cell_type": "code",
   "execution_count": null,
   "metadata": {},
   "outputs": [],
   "source": []
  },
  {
   "cell_type": "code",
   "execution_count": 14,
   "metadata": {},
   "outputs": [],
   "source": [
    "import os\n",
    "from skimage import io, color\n",
    "from PIL import Image\n",
    "\n",
    "#Define a list of all JPG Arrays\n",
    "ModelJPGArrays = []\n",
    "Labels = []\n",
    "\n",
    "#Append ModelJPGArrays \n",
    "directory = 'Fruits/1_Pineapples/'\n",
    "PineappleArrays = []\n",
    "for file in os.listdir(directory):\n",
    "   if file.endswith(\".jpg\"):\n",
    "        jpg = (f'Fruits/1_Pineapples/{file}')\n",
    "        image = Image.open(jpg).resize((10,10), Image.ANTIALIAS)\n",
    "        image.save(f'Fruits/Small/1_Pineapples/{file}')\n",
    "        jpg = (f'Fruits/Small/1_Pineapples/{file}')\n",
    "        jpgarray = io.imread(jpg) \n",
    "#         jpgarray = jpgarray.reshape(-1)\n",
    "        PineappleArrays.append(jpgarray)\n",
    "        ModelJPGArrays.append(jpgarray)\n",
    "        Labels.append(1)\n",
    "        \n",
    "directory = 'Fruits/2_Strawberry/'\n",
    "StrawberryArrays = []\n",
    "for file in os.listdir(directory):\n",
    "   if file.endswith(\".jpg\"):\n",
    "        jpg = (f'Fruits/2_Strawberry/{file}')\n",
    "        image = Image.open(jpg).resize((10,10), Image.ANTIALIAS)\n",
    "        image.save(f'Fruits/Small/2_Strawberry/{file}')\n",
    "        jpg = (f'Fruits/Small/2_Strawberry/{file}')\n",
    "        jpgarray = io.imread(jpg) \n",
    "#         jpgarray = jpgarray.reshape(-1)\n",
    "        StrawberryArrays.append(jpgarray)\n",
    "        ModelJPGArrays.append(jpgarray)\n",
    "        Labels.append(2)\n",
    "        \n",
    "directory = 'Fruits/3_Banana/'\n",
    "BananaArrays = []\n",
    "for file in os.listdir(directory):\n",
    "   if file.endswith(\".jpg\"):\n",
    "        jpg = (f'Fruits/3_Banana/{file}')\n",
    "        image = Image.open(jpg).resize((10,10), Image.ANTIALIAS)\n",
    "        image.save(f'Fruits/Small/3_Banana/{file}')\n",
    "        jpg = (f'Fruits/Small/3_Banana/{file}')\n",
    "        jpgarray = io.imread(jpg) \n",
    "#         jpgarray = jpgarray.reshape(-1)\n",
    "        BananaArrays.append(jpgarray)\n",
    "        ModelJPGArrays.append(jpgarray)\n",
    "        Labels.append(3)\n",
    "        \n",
    "directory = 'Fruits/4_Lychee/'\n",
    "LycheeArrays = []\n",
    "for file in os.listdir(directory):\n",
    "   if file.endswith(\".jpg\"):\n",
    "        jpg = (f'Fruits/4_Lychee/{file}')\n",
    "        image = Image.open(jpg).resize((10,10), Image.ANTIALIAS)\n",
    "        image.save(f'Fruits/Small/4_Lychee/{file}')\n",
    "        jpg = (f'Fruits/Small/4_Lychee/{file}')\n",
    "        jpgarray = io.imread(jpg) \n",
    "#         jpgarray = jpgarray.reshape(-1)\n",
    "        LycheeArrays.append(jpgarray)\n",
    "        ModelJPGArrays.append(jpgarray)\n",
    "        Labels.append(4)\n",
    "        \n",
    "directory = 'Fruits/5_Apple/'\n",
    "AppleArrays = []\n",
    "for file in os.listdir(directory):\n",
    "   if file.endswith(\".jpg\"):\n",
    "        jpg = (f'Fruits/5_Apple/{file}')\n",
    "        image = Image.open(jpg).resize((10,10), Image.ANTIALIAS)\n",
    "        image.save(f'Fruits/Small/5_Apple/{file}')\n",
    "        jpg = (f'Fruits/Small/5_Apple/{file}')\n",
    "        jpgarray = io.imread(jpg) \n",
    "#         jpgarray = jpgarray.reshape(-1)\n",
    "        AppleArrays.append(jpgarray)\n",
    "        ModelJPGArrays.append(jpgarray)\n",
    "        Labels.append(5)\n",
    "        \n",
    "directory = 'Fruits/6_Raspberry/'\n",
    "RaspberryArrays = []\n",
    "for file in os.listdir(directory):\n",
    "   if file.endswith(\".jpg\"):\n",
    "        jpg = (f'Fruits/6_Raspberry/{file}')\n",
    "        image = Image.open(jpg).resize((10,10), Image.ANTIALIAS)\n",
    "        image.save(f'Fruits/Small/6_Raspberry/{file}')\n",
    "        jpg = (f'Fruits/Small/6_Raspberry/{file}')\n",
    "        jpgarray = io.imread(jpg) \n",
    "#         jpgarray = jpgarray.reshape(-1)\n",
    "        RaspberryArrays.append(jpgarray)\n",
    "        ModelJPGArrays.append(jpgarray)\n",
    "        Labels.append(5)\n",
    "        \n",
    "directory = 'Fruits/7_Peach/'\n",
    "PeachArrays = []\n",
    "for file in os.listdir(directory):\n",
    "   if file.endswith(\".jpg\"):\n",
    "        jpg = (f'Fruits/7_Peach/{file}')\n",
    "        image = Image.open(jpg).resize((10,10), Image.ANTIALIAS)\n",
    "        image.save(f'Fruits/Small/7_Peach/{file}')\n",
    "        jpg = (f'Fruits/Small/7_Peach/{file}')\n",
    "        jpgarray = io.imread(jpg) \n",
    "#         jpgarray = jpgarray.reshape(-1)\n",
    "        PeachArrays.append(jpgarray)\n",
    "        ModelJPGArrays.append(jpgarray)\n",
    "        Labels.append(7)\n",
    "        \n",
    "directory = 'Fruits/8_Orange/'\n",
    "OrangeArrays = []\n",
    "for file in os.listdir(directory):\n",
    "   if file.endswith(\".jpg\"):\n",
    "        jpg = (f'Fruits/8_Orange/{file}')\n",
    "        image = Image.open(jpg).resize((10,10), Image.ANTIALIAS)\n",
    "        image.save(f'Fruits/Small/8_Orange/{file}')\n",
    "        jpg = (f'Fruits/Small/8_Orange/{file}')\n",
    "        jpgarray = io.imread(jpg) \n",
    "#         jpgarray = jpgarray.reshape(-1)\n",
    "        OrangeArrays.append(jpgarray)\n",
    "        ModelJPGArrays.append(jpgarray)\n",
    "        Labels.append(8)\n",
    "\n",
    "directory = 'Fruits/9_Lime/'\n",
    "LimeArrays = []\n",
    "for file in os.listdir(directory):\n",
    "   if file.endswith(\".jpg\"):\n",
    "        jpg = (f'Fruits/9_Lime/{file}')\n",
    "        image = Image.open(jpg).resize((10,10), Image.ANTIALIAS)\n",
    "        image.save(f'Fruits/Small/9_Lime/{file}')\n",
    "        jpg = (f'Fruits/Small/9_Lime/{file}')\n",
    "        jpgarray = io.imread(jpg) \n",
    "#         jpgarray = jpgarray.reshape(-1)\n",
    "        LimeArrays.append(jpgarray)\n",
    "        ModelJPGArrays.append(jpgarray)\n",
    "        Labels.append(9)\n",
    "\n",
    "directory = 'Fruits/10_Pomegranate/'\n",
    "PomegranateArrays = []\n",
    "for file in os.listdir(directory):\n",
    "   if file.endswith(\".jpg\"):\n",
    "        jpg = (f'Fruits/10_Pomegranate/{file}')\n",
    "        image = Image.open(jpg).resize((10,10), Image.ANTIALIAS)\n",
    "        image.save(f'Fruits/Small/10_Pomegranate/{file}')\n",
    "        jpg = (f'Fruits/Small/10_Pomegranate/{file}')\n",
    "        jpgarray = io.imread(jpg)\n",
    "#         jpgarray = jpgarray.reshape(-1)\n",
    "        PomegranateArrays.append(jpgarray)\n",
    "        ModelJPGArrays.append(jpgarray)\n",
    "        Labels.append(10)"
   ]
  },
  {
   "cell_type": "code",
   "execution_count": 23,
   "metadata": {},
   "outputs": [
    {
     "data": {
      "text/plain": [
       "(10, 10, 3)"
      ]
     },
     "execution_count": 23,
     "metadata": {},
     "output_type": "execute_result"
    }
   ],
   "source": [
    "PeachArrays[0]"
   ]
  },
  {
   "cell_type": "code",
   "execution_count": 30,
   "metadata": {},
   "outputs": [
    {
     "data": {
      "text/plain": [
       "(3, 100)"
      ]
     },
     "execution_count": 30,
     "metadata": {},
     "output_type": "execute_result"
    }
   ],
   "source": [
    "PeachArrays[0].transpose(2,0,1).reshape(3,-1).shape"
   ]
  },
  {
   "cell_type": "code",
   "execution_count": 25,
   "metadata": {},
   "outputs": [],
   "source": [
    "from sklearn.model_selection import train_test_split\n",
    "from sklearn.linear_model import LogisticRegression\n",
    "import numpy as np \n",
    "\n",
    "import matplotlib.pyplot as plt\n",
    "import seaborn as sns\n",
    "\n",
    "# test_size: what proportion of original data is used for test set\n",
    "x_train, x_test, y_train, y_test = train_test_split(\n",
    "    ModelJPGArrays, Labels, test_size=0.25, random_state=0)"
   ]
  },
  {
   "cell_type": "code",
   "execution_count": 24,
   "metadata": {},
   "outputs": [
    {
     "ename": "ValueError",
     "evalue": "Found array with dim 4. Estimator expected <= 2.",
     "output_type": "error",
     "traceback": [
      "\u001b[0;31m---------------------------------------------------------------------------\u001b[0m",
      "\u001b[0;31mValueError\u001b[0m                                Traceback (most recent call last)",
      "\u001b[0;32m<ipython-input-24-1bfea0de280b>\u001b[0m in \u001b[0;36m<module>\u001b[0;34m\u001b[0m\n\u001b[1;32m      7\u001b[0m \u001b[0msvc\u001b[0m \u001b[0;34m=\u001b[0m \u001b[0mSVC\u001b[0m\u001b[0;34m(\u001b[0m\u001b[0mkernel\u001b[0m\u001b[0;34m=\u001b[0m\u001b[0;34m\"linear\"\u001b[0m\u001b[0;34m,\u001b[0m \u001b[0mC\u001b[0m\u001b[0;34m=\u001b[0m\u001b[0;36m1\u001b[0m\u001b[0;34m)\u001b[0m\u001b[0;34m\u001b[0m\u001b[0;34m\u001b[0m\u001b[0m\n\u001b[1;32m      8\u001b[0m \u001b[0mrfe\u001b[0m \u001b[0;34m=\u001b[0m \u001b[0mRFE\u001b[0m\u001b[0;34m(\u001b[0m\u001b[0mestimator\u001b[0m\u001b[0;34m=\u001b[0m\u001b[0msvc\u001b[0m\u001b[0;34m,\u001b[0m \u001b[0mn_features_to_select\u001b[0m\u001b[0;34m=\u001b[0m\u001b[0;36m1\u001b[0m\u001b[0;34m,\u001b[0m \u001b[0mstep\u001b[0m\u001b[0;34m=\u001b[0m\u001b[0;36m1\u001b[0m\u001b[0;34m)\u001b[0m\u001b[0;34m\u001b[0m\u001b[0;34m\u001b[0m\u001b[0m\n\u001b[0;32m----> 9\u001b[0;31m \u001b[0mrfe\u001b[0m\u001b[0;34m.\u001b[0m\u001b[0mfit\u001b[0m\u001b[0;34m(\u001b[0m\u001b[0mx_train\u001b[0m\u001b[0;34m,\u001b[0m \u001b[0my_train\u001b[0m\u001b[0;34m)\u001b[0m\u001b[0;34m\u001b[0m\u001b[0;34m\u001b[0m\u001b[0m\n\u001b[0m\u001b[1;32m     10\u001b[0m \u001b[0mranking\u001b[0m \u001b[0;34m=\u001b[0m \u001b[0mrfe\u001b[0m\u001b[0;34m.\u001b[0m\u001b[0mranking_\u001b[0m\u001b[0;34m.\u001b[0m\u001b[0mreshape\u001b[0m\u001b[0;34m(\u001b[0m\u001b[0;36m10\u001b[0m\u001b[0;34m,\u001b[0m\u001b[0;36m10\u001b[0m\u001b[0;34m)\u001b[0m\u001b[0;34m\u001b[0m\u001b[0;34m\u001b[0m\u001b[0m\n\u001b[1;32m     11\u001b[0m \u001b[0;34m\u001b[0m\u001b[0m\n",
      "\u001b[0;32m//anaconda3/lib/python3.7/site-packages/sklearn/feature_selection/rfe.py\u001b[0m in \u001b[0;36mfit\u001b[0;34m(self, X, y)\u001b[0m\n\u001b[1;32m    142\u001b[0m             \u001b[0mThe\u001b[0m \u001b[0mtarget\u001b[0m \u001b[0mvalues\u001b[0m\u001b[0;34m.\u001b[0m\u001b[0;34m\u001b[0m\u001b[0;34m\u001b[0m\u001b[0m\n\u001b[1;32m    143\u001b[0m         \"\"\"\n\u001b[0;32m--> 144\u001b[0;31m         \u001b[0;32mreturn\u001b[0m \u001b[0mself\u001b[0m\u001b[0;34m.\u001b[0m\u001b[0m_fit\u001b[0m\u001b[0;34m(\u001b[0m\u001b[0mX\u001b[0m\u001b[0;34m,\u001b[0m \u001b[0my\u001b[0m\u001b[0;34m)\u001b[0m\u001b[0;34m\u001b[0m\u001b[0;34m\u001b[0m\u001b[0m\n\u001b[0m\u001b[1;32m    145\u001b[0m \u001b[0;34m\u001b[0m\u001b[0m\n\u001b[1;32m    146\u001b[0m     \u001b[0;32mdef\u001b[0m \u001b[0m_fit\u001b[0m\u001b[0;34m(\u001b[0m\u001b[0mself\u001b[0m\u001b[0;34m,\u001b[0m \u001b[0mX\u001b[0m\u001b[0;34m,\u001b[0m \u001b[0my\u001b[0m\u001b[0;34m,\u001b[0m \u001b[0mstep_score\u001b[0m\u001b[0;34m=\u001b[0m\u001b[0;32mNone\u001b[0m\u001b[0;34m)\u001b[0m\u001b[0;34m:\u001b[0m\u001b[0;34m\u001b[0m\u001b[0;34m\u001b[0m\u001b[0m\n",
      "\u001b[0;32m//anaconda3/lib/python3.7/site-packages/sklearn/feature_selection/rfe.py\u001b[0m in \u001b[0;36m_fit\u001b[0;34m(self, X, y, step_score)\u001b[0m\n\u001b[1;32m    150\u001b[0m         \u001b[0;31m# self.scores_ will not be calculated when calling _fit through fit\u001b[0m\u001b[0;34m\u001b[0m\u001b[0;34m\u001b[0m\u001b[0;34m\u001b[0m\u001b[0m\n\u001b[1;32m    151\u001b[0m \u001b[0;34m\u001b[0m\u001b[0m\n\u001b[0;32m--> 152\u001b[0;31m         \u001b[0mX\u001b[0m\u001b[0;34m,\u001b[0m \u001b[0my\u001b[0m \u001b[0;34m=\u001b[0m \u001b[0mcheck_X_y\u001b[0m\u001b[0;34m(\u001b[0m\u001b[0mX\u001b[0m\u001b[0;34m,\u001b[0m \u001b[0my\u001b[0m\u001b[0;34m,\u001b[0m \u001b[0;34m\"csc\"\u001b[0m\u001b[0;34m,\u001b[0m \u001b[0mensure_min_features\u001b[0m\u001b[0;34m=\u001b[0m\u001b[0;36m2\u001b[0m\u001b[0;34m)\u001b[0m\u001b[0;34m\u001b[0m\u001b[0;34m\u001b[0m\u001b[0m\n\u001b[0m\u001b[1;32m    153\u001b[0m         \u001b[0;31m# Initialization\u001b[0m\u001b[0;34m\u001b[0m\u001b[0;34m\u001b[0m\u001b[0;34m\u001b[0m\u001b[0m\n\u001b[1;32m    154\u001b[0m         \u001b[0mn_features\u001b[0m \u001b[0;34m=\u001b[0m \u001b[0mX\u001b[0m\u001b[0;34m.\u001b[0m\u001b[0mshape\u001b[0m\u001b[0;34m[\u001b[0m\u001b[0;36m1\u001b[0m\u001b[0;34m]\u001b[0m\u001b[0;34m\u001b[0m\u001b[0;34m\u001b[0m\u001b[0m\n",
      "\u001b[0;32m//anaconda3/lib/python3.7/site-packages/sklearn/utils/validation.py\u001b[0m in \u001b[0;36mcheck_X_y\u001b[0;34m(X, y, accept_sparse, accept_large_sparse, dtype, order, copy, force_all_finite, ensure_2d, allow_nd, multi_output, ensure_min_samples, ensure_min_features, y_numeric, warn_on_dtype, estimator)\u001b[0m\n\u001b[1;32m    717\u001b[0m                     \u001b[0mensure_min_features\u001b[0m\u001b[0;34m=\u001b[0m\u001b[0mensure_min_features\u001b[0m\u001b[0;34m,\u001b[0m\u001b[0;34m\u001b[0m\u001b[0;34m\u001b[0m\u001b[0m\n\u001b[1;32m    718\u001b[0m                     \u001b[0mwarn_on_dtype\u001b[0m\u001b[0;34m=\u001b[0m\u001b[0mwarn_on_dtype\u001b[0m\u001b[0;34m,\u001b[0m\u001b[0;34m\u001b[0m\u001b[0;34m\u001b[0m\u001b[0m\n\u001b[0;32m--> 719\u001b[0;31m                     estimator=estimator)\n\u001b[0m\u001b[1;32m    720\u001b[0m     \u001b[0;32mif\u001b[0m \u001b[0mmulti_output\u001b[0m\u001b[0;34m:\u001b[0m\u001b[0;34m\u001b[0m\u001b[0;34m\u001b[0m\u001b[0m\n\u001b[1;32m    721\u001b[0m         y = check_array(y, 'csr', force_all_finite=True, ensure_2d=False,\n",
      "\u001b[0;32m//anaconda3/lib/python3.7/site-packages/sklearn/utils/validation.py\u001b[0m in \u001b[0;36mcheck_array\u001b[0;34m(array, accept_sparse, accept_large_sparse, dtype, order, copy, force_all_finite, ensure_2d, allow_nd, ensure_min_samples, ensure_min_features, warn_on_dtype, estimator)\u001b[0m\n\u001b[1;32m    537\u001b[0m         \u001b[0;32mif\u001b[0m \u001b[0;32mnot\u001b[0m \u001b[0mallow_nd\u001b[0m \u001b[0;32mand\u001b[0m \u001b[0marray\u001b[0m\u001b[0;34m.\u001b[0m\u001b[0mndim\u001b[0m \u001b[0;34m>=\u001b[0m \u001b[0;36m3\u001b[0m\u001b[0;34m:\u001b[0m\u001b[0;34m\u001b[0m\u001b[0;34m\u001b[0m\u001b[0m\n\u001b[1;32m    538\u001b[0m             raise ValueError(\"Found array with dim %d. %s expected <= 2.\"\n\u001b[0;32m--> 539\u001b[0;31m                              % (array.ndim, estimator_name))\n\u001b[0m\u001b[1;32m    540\u001b[0m         \u001b[0;32mif\u001b[0m \u001b[0mforce_all_finite\u001b[0m\u001b[0;34m:\u001b[0m\u001b[0;34m\u001b[0m\u001b[0;34m\u001b[0m\u001b[0m\n\u001b[1;32m    541\u001b[0m             _assert_all_finite(array,\n",
      "\u001b[0;31mValueError\u001b[0m: Found array with dim 4. Estimator expected <= 2."
     ]
    }
   ],
   "source": [
    "# Create the RFE object and rank each pixel\n",
    "#https://scikit-learn.org/stable/auto_examples/feature_selection/plot_rfe_digits.html#sphx-glr-auto-examples-feature-selection-plot-rfe-digits-py\n",
    "# Create the RFE object and rank each pixel\n",
    "#https://scikit-learn.org/stable/auto_examples/feature_selection/plot_rfe_digits.html#sphx-glr-auto-examples-feature-selection-plot-rfe-digits-py\n",
    "from sklearn.svm import SVC\n",
    "from sklearn.feature_selection import RFE\n",
    "svc = SVC(kernel=\"linear\", C=1)\n",
    "rfe = RFE(estimator=svc, n_features_to_select=1, step=1)\n",
    "rfe.fit(x_train, y_train)\n",
    "# ranking = rfe.ranking_.reshape(x_train[0].shape)\n",
    "ranking = rfe.ranking_.reshape(x_train[0].shape)\n",
    "# Plot pixel ranking\n",
    "plt.matshow(ranking, cmap=plt.cm.Blues)\n",
    "plt.colorbar()\n",
    "plt.title(\"Ranking of pixels with RFE\")\n",
    "plt.show()"
   ]
  },
  {
   "cell_type": "code",
   "execution_count": 11,
   "metadata": {},
   "outputs": [
    {
     "data": {
      "text/plain": [
       "(300,)"
      ]
     },
     "execution_count": 11,
     "metadata": {},
     "output_type": "execute_result"
    }
   ],
   "source": [
    "x_train[0].shape"
   ]
  },
  {
   "cell_type": "code",
   "execution_count": 7,
   "metadata": {},
   "outputs": [
    {
     "data": {
      "image/png": "[encoded data removed]",
      "text/plain": [
       "<Figure size 288x288 with 2 Axes>"
      ]
     },
     "metadata": {
      "needs_background": "light"
     },
     "output_type": "display_data"
    }
   ],
   "source": [
    "from sklearn.svm import SVC\n",
    "from sklearn.datasets import load_digits\n",
    "from sklearn.feature_selection import RFE\n",
    "import matplotlib.pyplot as plt\n",
    "\n",
    "# Load the digits dataset\n",
    "digits = load_digits()\n",
    "X = digits.images.reshape((len(digits.images), -1))\n",
    "y = digits.target\n",
    "\n",
    "# Create the RFE object and rank each pixel\n",
    "svc = SVC(kernel=\"linear\", C=1)\n",
    "rfe = RFE(estimator=svc, n_features_to_select=1, step=1)\n",
    "rfe.fit(X, y)\n",
    "ranking = rfe.ranking_.reshape(digits.images[0].shape)\n",
    "\n",
    "# Plot pixel ranking\n",
    "plt.matshow(ranking, cmap=plt.cm.Blues)\n",
    "plt.colorbar()\n",
    "plt.title(\"Ranking of pixels with RFE\")\n",
    "plt.show()"
   ]
  },
  {
   "cell_type": "code",
   "execution_count": 10,
   "metadata": {},
   "outputs": [
    {
     "name": "stdout",
     "output_type": "stream",
     "text": [
      "(8, 8)\n"
     ]
    }
   ],
   "source": [
    "print(digits.images[0].shape)"
   ]
  },
  {
   "cell_type": "code",
   "execution_count": null,
   "metadata": {},
   "outputs": [],
   "source": []
  }
 ],
 "metadata": {
  "kernelspec": {
   "display_name": "Python 3",
   "language": "python",
   "name": "python3"
  },
  "language_info": {
   "codemirror_mode": {
    "name": "ipython",
    "version": 3
   },
   "file_extension": ".py",
   "mimetype": "text/x-python",
   "name": "python",
   "nbconvert_exporter": "python",
   "pygments_lexer": "ipython3",
   "version": "3.7.3"
  }
 },
 "nbformat": 4,
 "nbformat_minor": 2
}
